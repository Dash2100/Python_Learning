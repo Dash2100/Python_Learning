{
 "cells": [
  {
   "cell_type": "code",
   "execution_count": 1,
   "id": "84fb70da",
   "metadata": {},
   "outputs": [],
   "source": [
    "def dosomething():\n",
    "    print(\"呼叫函式\")"
   ]
  },
  {
   "cell_type": "code",
   "execution_count": 3,
   "id": "a395948d",
   "metadata": {},
   "outputs": [
    {
     "name": "stdout",
     "output_type": "stream",
     "text": [
      "呼叫函式\n"
     ]
    }
   ],
   "source": [
    "dosomething()"
   ]
  },
  {
   "cell_type": "code",
   "execution_count": 5,
   "id": "66f1990a",
   "metadata": {},
   "outputs": [
    {
     "name": "stdout",
     "output_type": "stream",
     "text": [
      "11\n"
     ]
    }
   ],
   "source": [
    "def func_sum(a,b):\n",
    "    c = a + b\n",
    "    return c\n",
    "\n",
    "total = func_sum(1,10)\n",
    "print(total)"
   ]
  }
 ],
 "metadata": {
  "kernelspec": {
   "display_name": "Python 3 (ipykernel)",
   "language": "python",
   "name": "python3"
  },
  "language_info": {
   "codemirror_mode": {
    "name": "ipython",
    "version": 3
   },
   "file_extension": ".py",
   "mimetype": "text/x-python",
   "name": "python",
   "nbconvert_exporter": "python",
   "pygments_lexer": "ipython3",
   "version": "3.8.7"
  }
 },
 "nbformat": 4,
 "nbformat_minor": 5
}
