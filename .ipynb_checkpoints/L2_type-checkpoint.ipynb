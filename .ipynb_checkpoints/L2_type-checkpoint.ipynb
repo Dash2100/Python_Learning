{
 "cells": [
  {
   "cell_type": "code",
   "execution_count": 19,
   "id": "2c9e396d",
   "metadata": {},
   "outputs": [
    {
     "name": "stdout",
     "output_type": "stream",
     "text": [
      "請輸入整數a:0\n",
      "請輸入整數b:0\n",
      "0\n"
     ]
    }
   ],
   "source": [
    "a = int(input(\"請輸入整數a:\"))\n",
    "b = int(input(\"請輸入整數b:\"))\n",
    "c = a + b\n",
    "print(c)"
   ]
  },
  {
   "cell_type": "code",
   "execution_count": 23,
   "id": "72c2257a",
   "metadata": {},
   "outputs": [
    {
     "name": "stdout",
     "output_type": "stream",
     "text": [
      "請輸入被除數(整數):100\n",
      "請輸入除數(整數,不可為0)90\n",
      "商 1 餘數 10\n"
     ]
    }
   ],
   "source": [
    "vaule1 = int(input(\"請輸入被除數(整數):\"))\n",
    "vaule2 = int(input(\"請輸入除數(整數,不可為0)\"))\n",
    "print(\"商\",vaule1 // vaule2,\"餘數\",vaule1 % vaule2)"
   ]
  }
 ],
 "metadata": {
  "kernelspec": {
   "display_name": "Python 3 (ipykernel)",
   "language": "python",
   "name": "python3"
  },
  "language_info": {
   "codemirror_mode": {
    "name": "ipython",
    "version": 3
   },
   "file_extension": ".py",
   "mimetype": "text/x-python",
   "name": "python",
   "nbconvert_exporter": "python",
   "pygments_lexer": "ipython3",
   "version": "3.8.7"
  }
 },
 "nbformat": 4,
 "nbformat_minor": 5
}
