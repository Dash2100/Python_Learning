{
 "cells": [
  {
   "cell_type": "code",
   "execution_count": 1,
   "id": "dab495b9",
   "metadata": {},
   "outputs": [
    {
     "name": "stdout",
     "output_type": "stream",
     "text": [
      "Hello Python\n"
     ]
    }
   ],
   "source": [
    "print(\"Hello Python\")"
   ]
  },
  {
   "cell_type": "code",
   "execution_count": 2,
   "id": "72f7e0a6",
   "metadata": {},
   "outputs": [
    {
     "name": "stdout",
     "output_type": "stream",
     "text": [
      "1970\n"
     ]
    },
    {
     "data": {
      "text/plain": [
       "2021"
      ]
     },
     "execution_count": 2,
     "metadata": {},
     "output_type": "execute_result"
    }
   ],
   "source": [
    "#建立變數 更改變數 取出變數的值\n",
    "year = 1970\n",
    "print(year)\n",
    "year = 2021\n",
    "year"
   ]
  },
  {
   "cell_type": "code",
   "execution_count": 3,
   "id": "3980c08d",
   "metadata": {},
   "outputs": [
    {
     "name": "stdout",
     "output_type": "stream",
     "text": [
      "1970\n"
     ]
    },
    {
     "data": {
      "text/plain": [
       "2021"
      ]
     },
     "execution_count": 3,
     "metadata": {},
     "output_type": "execute_result"
    }
   ],
   "source": [
    "#建立變數 更改變數 取出變數的值\n",
    "year = 1970;print(year);year = 2021\n",
    "year"
   ]
  },
  {
   "cell_type": "code",
   "execution_count": 4,
   "id": "b49650f3",
   "metadata": {},
   "outputs": [
    {
     "name": "stdout",
     "output_type": "stream",
     "text": [
      "123456 ||||| 456789\n"
     ]
    }
   ],
   "source": [
    "aa = 123456\n",
    "bb = 456789\n",
    "print(aa,\"|||||\",bb)"
   ]
  },
  {
   "cell_type": "code",
   "execution_count": 5,
   "id": "cde8b366",
   "metadata": {},
   "outputs": [
    {
     "name": "stdout",
     "output_type": "stream",
     "text": [
      "Hello World\n"
     ]
    }
   ],
   "source": [
    "print(\"Hello World\")"
   ]
  },
  {
   "cell_type": "code",
   "execution_count": 6,
   "id": "18356fb6",
   "metadata": {},
   "outputs": [
    {
     "name": "stdout",
     "output_type": "stream",
     "text": [
      "3\n",
      "3.14\n",
      "Hello World\n",
      "81\n"
     ]
    }
   ],
   "source": [
    "print(3)\n",
    "print(3.14)\n",
    "print(\"Hello World\")\n",
    "print(9*9)"
   ]
  },
  {
   "cell_type": "code",
   "execution_count": 7,
   "id": "af166620",
   "metadata": {},
   "outputs": [
    {
     "name": "stdout",
     "output_type": "stream",
     "text": [
      "a= 100\n",
      "b= 50\n",
      "a+b= 150\n"
     ]
    }
   ],
   "source": [
    "a = 100\n",
    "print(\"a=\", a)\n",
    "b = 50\n",
    "print(\"b=\", b)\n",
    "print(\"a+b=\", a+b)"
   ]
  },
  {
   "cell_type": "code",
   "execution_count": 11,
   "id": "4da16732",
   "metadata": {
    "scrolled": false
   },
   "outputs": [
    {
     "name": "stdout",
     "output_type": "stream",
     "text": [
      "<class 'int'>\n",
      "<class 'float'>\n",
      "<class 'str'>\n",
      "<class 'bool'>\n"
     ]
    }
   ],
   "source": [
    "#動態型別\n",
    "var1 = 57\n",
    "print(type(var1))\n",
    "var1 = 57.0\n",
    "print(type(var1))\n",
    "var1 = \"12345\"\n",
    "print(type(var1))\n",
    "var1 = True\n",
    "print(type(var1))"
   ]
  },
  {
   "cell_type": "code",
   "execution_count": 14,
   "id": "f7ce17bb",
   "metadata": {},
   "outputs": [
    {
     "data": {
      "text/plain": [
       "1000"
      ]
     },
     "execution_count": 14,
     "metadata": {},
     "output_type": "execute_result"
    }
   ],
   "source": [
    "100*10"
   ]
  },
  {
   "cell_type": "code",
   "execution_count": 19,
   "id": "44382e46",
   "metadata": {},
   "outputs": [
    {
     "data": {
      "text/plain": [
       "float"
      ]
     },
     "execution_count": 19,
     "metadata": {},
     "output_type": "execute_result"
    }
   ],
   "source": [
    "aa = 100/10\n",
    "\n",
    "type(aa)"
   ]
  },
  {
   "cell_type": "code",
   "execution_count": 21,
   "id": "48fb66a3",
   "metadata": {},
   "outputs": [
    {
     "data": {
      "text/plain": [
       "int"
      ]
     },
     "execution_count": 21,
     "metadata": {},
     "output_type": "execute_result"
    }
   ],
   "source": [
    "aa = 100//10\n",
    "\n",
    "type(aa)"
   ]
  },
  {
   "cell_type": "code",
   "execution_count": 25,
   "id": "81a7a226",
   "metadata": {},
   "outputs": [
    {
     "data": {
      "text/plain": [
       "0"
      ]
     },
     "execution_count": 25,
     "metadata": {},
     "output_type": "execute_result"
    }
   ],
   "source": [
    "100%10"
   ]
  }
 ],
 "metadata": {
  "kernelspec": {
   "display_name": "Python 3 (ipykernel)",
   "language": "python",
   "name": "python3"
  },
  "language_info": {
   "codemirror_mode": {
    "name": "ipython",
    "version": 3
   },
   "file_extension": ".py",
   "mimetype": "text/x-python",
   "name": "python",
   "nbconvert_exporter": "python",
   "pygments_lexer": "ipython3",
   "version": "3.8.7"
  }
 },
 "nbformat": 4,
 "nbformat_minor": 5
}
