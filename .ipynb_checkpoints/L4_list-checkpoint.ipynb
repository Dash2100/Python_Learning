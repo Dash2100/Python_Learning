{
 "cells": [
  {
   "cell_type": "code",
   "execution_count": 19,
   "id": "92ce4d4c",
   "metadata": {},
   "outputs": [
    {
     "data": {
      "text/plain": [
       "['台北', '台中', '台南', '高雄']"
      ]
     },
     "execution_count": 19,
     "metadata": {},
     "output_type": "execute_result"
    }
   ],
   "source": [
    "cities = [\"台北\",\"台中\",\"台南\"]\n",
    "cities.append(\"高雄\")\n",
    "cities"
   ]
  },
  {
   "cell_type": "code",
   "execution_count": 20,
   "id": "29614404",
   "metadata": {},
   "outputs": [
    {
     "data": {
      "text/plain": [
       "['台北', '台中', '台南', '高雄', '花蓮', '台東']"
      ]
     },
     "execution_count": 20,
     "metadata": {},
     "output_type": "execute_result"
    }
   ],
   "source": [
    "others = [\"花蓮\",\"台東\"]\n",
    "cities.extend(others)\n",
    "cities"
   ]
  },
  {
   "cell_type": "code",
   "execution_count": 9,
   "id": "07619876",
   "metadata": {},
   "outputs": [
    {
     "data": {
      "text/plain": [
       "['台北', '台中', '高雄', '花蓮', '台東']"
      ]
     },
     "execution_count": 9,
     "metadata": {},
     "output_type": "execute_result"
    }
   ],
   "source": [
    "cities = [\"台北\",\"台中\",\"高雄\"]\n",
    "others = [\"花蓮\",\"台東\"]\n",
    "cities += others\n",
    "cities"
   ]
  },
  {
   "cell_type": "code",
   "execution_count": 6,
   "id": "7af4d6d6",
   "metadata": {},
   "outputs": [
    {
     "data": {
      "text/plain": [
       "['台北', '台中', '高雄', ['花蓮', '台東']]"
      ]
     },
     "execution_count": 6,
     "metadata": {},
     "output_type": "execute_result"
    }
   ],
   "source": [
    "cities = [\"台北\",\"台中\",\"高雄\"]\n",
    "others = [\"花蓮\",\"台東\"]\n",
    "cities.append(others)\n",
    "cities"
   ]
  },
  {
   "cell_type": "code",
   "execution_count": 21,
   "id": "01df331a",
   "metadata": {},
   "outputs": [
    {
     "data": {
      "text/plain": [
       "[['花蓮', '台東'], '台北', '台中', '高雄']"
      ]
     },
     "execution_count": 21,
     "metadata": {},
     "output_type": "execute_result"
    }
   ],
   "source": [
    "cities = [\"台北\",\"台中\",\"高雄\"]\n",
    "others = [\"花蓮\",\"台東\"]\n",
    "cities.insert(0,others)\n",
    "cities"
   ]
  },
  {
   "cell_type": "code",
   "execution_count": 23,
   "id": "98a249dd",
   "metadata": {},
   "outputs": [
    {
     "data": {
      "text/plain": [
       "['台北', '台中']"
      ]
     },
     "execution_count": 23,
     "metadata": {},
     "output_type": "execute_result"
    }
   ],
   "source": [
    "cities = [\"台北\",\"台中\",\"高雄\"]\n",
    "cities.remove(\"高雄\")\n",
    "cities"
   ]
  },
  {
   "cell_type": "code",
   "execution_count": 25,
   "id": "8f833380",
   "metadata": {},
   "outputs": [
    {
     "data": {
      "text/plain": [
       "['台中', '高雄']"
      ]
     },
     "execution_count": 25,
     "metadata": {},
     "output_type": "execute_result"
    }
   ],
   "source": [
    "cities = [\"台北\",\"台中\",\"高雄\"]\n",
    "cities.pop(0)\n",
    "cities"
   ]
  },
  {
   "cell_type": "code",
   "execution_count": 35,
   "id": "e71d4b86",
   "metadata": {},
   "outputs": [
    {
     "data": {
      "text/plain": [
       "['台中', '高雄']"
      ]
     },
     "execution_count": 35,
     "metadata": {},
     "output_type": "execute_result"
    }
   ],
   "source": [
    "cities = [\"台北\",\"台中\",\"高雄\"]\n",
    "del cities[0]\n",
    "cities"
   ]
  },
  {
   "cell_type": "code",
   "execution_count": 21,
   "id": "8b8867e9",
   "metadata": {},
   "outputs": [
    {
     "data": {
      "text/plain": [
       "[]"
      ]
     },
     "execution_count": 21,
     "metadata": {},
     "output_type": "execute_result"
    }
   ],
   "source": [
    "cities = [\"台北\",\"台中\",\"高雄\"]\n",
    "del cities[:]\n",
    "cities"
   ]
  },
  {
   "cell_type": "code",
   "execution_count": 22,
   "id": "e895ae7b",
   "metadata": {},
   "outputs": [
    {
     "name": "stdout",
     "output_type": "stream",
     "text": [
      "[3, 4, 5, 5, 6, 8, 9]\n"
     ]
    },
    {
     "data": {
      "text/plain": [
       "[9, 8, 6, 5, 5, 4, 3]"
      ]
     },
     "execution_count": 22,
     "metadata": {},
     "output_type": "execute_result"
    }
   ],
   "source": [
    "nums = [8,5,4,9,6,3,5]\n",
    "nums.sort()\n",
    "print(nums)\n",
    "\n",
    "nums = [8,5,4,9,6,3,5]\n",
    "nums.sort(reverse = True)\n",
    "nums"
   ]
  },
  {
   "cell_type": "code",
   "execution_count": 3,
   "id": "32626b1d",
   "metadata": {},
   "outputs": [
    {
     "name": "stdout",
     "output_type": "stream",
     "text": [
      "[3, 4, 5, 5, 6, 8, 9]\n"
     ]
    }
   ],
   "source": [
    "nums = [8,5,4,9,6,3,5]\n",
    "sorted_nums = sorted(nums)\n",
    "print(sorted_nums)"
   ]
  },
  {
   "cell_type": "code",
   "execution_count": 23,
   "id": "9392a5e5",
   "metadata": {},
   "outputs": [
    {
     "name": "stdout",
     "output_type": "stream",
     "text": [
      "[3, 4, 5, 5, 6, 8, 9]\n"
     ]
    }
   ],
   "source": [
    "nums = [8,5,4,9,6,3,5]\n",
    "nums = sorted(nums)\n",
    "print(nums)"
   ]
  },
  {
   "cell_type": "code",
   "execution_count": 25,
   "id": "182606da",
   "metadata": {},
   "outputs": [
    {
     "data": {
      "text/plain": [
       "True"
      ]
     },
     "execution_count": 25,
     "metadata": {},
     "output_type": "execute_result"
    }
   ],
   "source": [
    "num1 = [8,5,4,9,6,3,5]\n",
    "num2 = [8,5,4,9,6,3,5]\n",
    "num1 == num2"
   ]
  },
  {
   "cell_type": "code",
   "execution_count": 27,
   "id": "e698b5a0",
   "metadata": {},
   "outputs": [
    {
     "data": {
      "text/plain": [
       "False"
      ]
     },
     "execution_count": 27,
     "metadata": {},
     "output_type": "execute_result"
    }
   ],
   "source": [
    "num1 = [8,5,4,9,6,3,5]\n",
    "num2 = [8,5,4,9,6,3,5]\n",
    "num1 is num2"
   ]
  },
  {
   "cell_type": "code",
   "execution_count": 30,
   "id": "e7402234",
   "metadata": {},
   "outputs": [
    {
     "data": {
      "text/plain": [
       "True"
      ]
     },
     "execution_count": 30,
     "metadata": {},
     "output_type": "execute_result"
    }
   ],
   "source": [
    "num1 = [8,5,4,9,6,3,5]\n",
    "num2 = num1\n",
    "num1 is num2"
   ]
  },
  {
   "cell_type": "code",
   "execution_count": 34,
   "id": "2877e5e3",
   "metadata": {},
   "outputs": [
    {
     "name": "stdout",
     "output_type": "stream",
     "text": [
      "[8, 5, 4, 9, 6, 3, 5]\n",
      "[87, 5, 4, 9, 6, 3, 5]\n"
     ]
    },
    {
     "data": {
      "text/plain": [
       "True"
      ]
     },
     "execution_count": 34,
     "metadata": {},
     "output_type": "execute_result"
    }
   ],
   "source": [
    "num1 = [8,5,4,9,6,3,5]\n",
    "num2 = num1\n",
    "print(num1)\n",
    "num2[0] = 87\n",
    "print(num2)\n",
    "num1 is num2"
   ]
  },
  {
   "cell_type": "code",
   "execution_count": 41,
   "id": "a5eb2e63",
   "metadata": {},
   "outputs": [
    {
     "name": "stdout",
     "output_type": "stream",
     "text": [
      "True\n",
      "False\n"
     ]
    }
   ],
   "source": [
    "nums = [8,5,4,9,6,3,5]\n",
    "\n",
    "print(5 in nums)\n",
    "print(60 in nums)"
   ]
  },
  {
   "cell_type": "code",
   "execution_count": 4,
   "id": "15deac57",
   "metadata": {},
   "outputs": [
    {
     "name": "stdout",
     "output_type": "stream",
     "text": [
      "台北\n",
      "台中\n",
      "高雄\n"
     ]
    }
   ],
   "source": [
    "cities = (\"台北\",\"台中\",\"高雄\")\n",
    "\n",
    "north,middle,south = cities\n",
    "\n",
    "print(north)\n",
    "print(middle)\n",
    "print(south)"
   ]
  },
  {
   "cell_type": "code",
   "execution_count": 6,
   "id": "52edfb56",
   "metadata": {},
   "outputs": [
    {
     "name": "stdout",
     "output_type": "stream",
     "text": [
      "[3, 4, 5, 5, 6, 8, 9]\n"
     ]
    }
   ],
   "source": [
    "nums = [8,5,4,9,6,3,5]\n",
    "sorted_nums = sorted(nums)\n",
    "print(sorted_nums)"
   ]
  }
 ],
 "metadata": {
  "kernelspec": {
   "display_name": "Python 3 (ipykernel)",
   "language": "python",
   "name": "python3"
  },
  "language_info": {
   "codemirror_mode": {
    "name": "ipython",
    "version": 3
   },
   "file_extension": ".py",
   "mimetype": "text/x-python",
   "name": "python",
   "nbconvert_exporter": "python",
   "pygments_lexer": "ipython3",
   "version": "3.8.7"
  }
 },
 "nbformat": 4,
 "nbformat_minor": 5
}
