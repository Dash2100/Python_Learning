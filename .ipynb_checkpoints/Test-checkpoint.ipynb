{
 "cells": [
  {
   "cell_type": "code",
   "execution_count": 1,
   "id": "53810a8d",
   "metadata": {},
   "outputs": [
    {
     "data": {
      "text/plain": [
       "['台北', '台中', '台南', '花蓮', '台東']"
      ]
     },
     "execution_count": 1,
     "metadata": {},
     "output_type": "execute_result"
    }
   ],
   "source": [
    "cities = [\"台北\",\"台中\",\"台南\"]\n",
    "others = [\"花蓮\",\"台東\"]\n",
    "cities.extend(others)\n",
    "cities"
   ]
  },
  {
   "cell_type": "code",
   "execution_count": 2,
   "id": "9b2cc504",
   "metadata": {},
   "outputs": [
    {
     "name": "stdout",
     "output_type": "stream",
     "text": [
      "[3, 4, 5, 5, 6, 8, 9]\n",
      "[9, 8, 6, 5, 5, 4, 3]\n"
     ]
    }
   ],
   "source": [
    "nums = [8,5,4,9,6,3,5]\n",
    "nums.sort()\n",
    "print(nums)\n",
    "\n",
    "nums = [8,5,4,9,6,3,5]\n",
    "nums.sort(reverse = True)\n",
    "print(nums)"
   ]
  },
  {
   "cell_type": "code",
   "execution_count": 28,
   "id": "28973477",
   "metadata": {},
   "outputs": [
    {
     "name": "stdout",
     "output_type": "stream",
     "text": [
      "帳號: 111\n",
      "密碼: ;;;\n",
      "帳號: 111 密碼: ;;;\n",
      "ac: 111\n",
      "True\n"
     ]
    }
   ],
   "source": [
    "ac = input(\"帳號: \")\n",
    "pwd = input(\"密碼: \")\n",
    "accounts = {}\n",
    "\n",
    "accounts[ac] = pwd\n",
    "\n",
    "for ac,pw in accounts.items():\n",
    "    print(F\"帳號: {ac} 密碼: {pw}\")\n",
    "\n",
    "rqs = input(\"ac: \")\n",
    "if rqs in accounts.keys():\n",
    "    print(\"True\")\n",
    "else:\n",
    "    print(\"False\")"
   ]
  },
  {
   "cell_type": "code",
   "execution_count": 43,
   "id": "9c80a4d5",
   "metadata": {},
   "outputs": [
    {
     "name": "stdout",
     "output_type": "stream",
     "text": [
      "輸入1註冊,輸入2登入,輸入q離開: 2\n",
      "登入帳號\n",
      "帳號: 123\n",
      "[ 歡迎使用者: 123 請輸入密碼!]\n",
      "密碼: 321\n",
      "✓ 登入成功! ✓\n",
      "---------------------------\n",
      "使用者: 123 請輸入操作代碼\n",
      "輸入1登出,輸入2更改密碼!1\n",
      "✓ 登出成功 ✓\n",
      "---------------------------\n",
      "輸入1註冊,輸入2登入,輸入q離開: 2\n",
      "登入帳號\n",
      "帳號: 123\n",
      "[ 歡迎使用者: 123 請輸入密碼!]\n",
      "密碼: 321\n",
      "✓ 登入成功! ✓\n",
      "---------------------------\n",
      "使用者: 123 請輸入操作代碼\n",
      "輸入1登出,輸入2更改密碼!\n",
      "使用者: 123 請輸入操作代碼\n",
      "輸入1登出,輸入2更改密碼!2\n",
      "請出入你的原始密碼: 32\n",
      "密碼輸入錯誤!\n",
      "使用者: 123 請輸入操作代碼\n",
      "輸入1登出,輸入2更改密碼!2\n",
      "請出入你的原始密碼: 321\n",
      "請輸入新密碼: 789\n",
      "請再次輸入密碼: 789\n",
      "密碼已成功修改 您已被登出!\n",
      "輸入1註冊,輸入2登入,輸入q離開: 2\n",
      "登入帳號\n",
      "帳號: 123\n",
      "[ 歡迎使用者: 123 請輸入密碼!]\n",
      "密碼: 321\n",
      "x 密碼錯誤! x\n",
      "輸入1註冊,輸入2登入,輸入q離開: 2\n",
      "登入帳號\n",
      "帳號: 123\n",
      "[ 歡迎使用者: 123 請輸入密碼!]\n",
      "密碼: 789\n",
      "✓ 登入成功! ✓\n",
      "---------------------------\n",
      "使用者: 123 請輸入操作代碼\n",
      "輸入1登出,輸入2更改密碼!1\n",
      "✓ 登出成功 ✓\n",
      "---------------------------\n",
      "輸入1註冊,輸入2登入,輸入q離開: q\n",
      "程式結束!\n"
     ]
    }
   ],
   "source": [
    "accounts = {\"123\":\"321\"}\n",
    "while True:\n",
    "    ac = \"\"\n",
    "    pwd = \"\"\n",
    "    rqs = \"\"\n",
    "    act = input(\"輸入1註冊,輸入2登入,輸入q離開: \")\n",
    "\n",
    "    if act == \"1\":\n",
    "        print(\"帳號註冊\")\n",
    "        ac = input(\"帳號: \")\n",
    "        pwd = input(\"密碼: \")\n",
    "        pwd_confirm = input(\"再次輸入密碼:\")\n",
    "        if pwd != pwd_confirm:\n",
    "            print(\"x 密碼不符合! x\")\n",
    "            continue\n",
    "        else:\n",
    "            accounts[ac] = pwd\n",
    "            print(f\"✓ 帳號 {ac} 設定成功! ✓\")\n",
    "#             for ac,pw in accounts.items():\n",
    "#                 print(F\"帳號: {ac} 密碼: {pw}\")===-\n",
    "            continue\n",
    "\n",
    "    if act == \"2\":\n",
    "        print(\"登入帳號\")\n",
    "        ac = input(\"帳號: \")\n",
    "        if ac in accounts.keys():\n",
    "            print(f\"[ 歡迎使用者: {ac} 請輸入密碼!]\")\n",
    "            pwd = input(\"密碼: \")\n",
    "            if pwd == accounts[ac]:\n",
    "                print(\"✓ 登入成功! ✓\")\n",
    "                print(\"---------------------------\")\n",
    "                while True:\n",
    "                    print(f\"使用者: {ac} 請輸入操作代碼\")\n",
    "                    rqs = input(\"輸入1登出,輸入2更改密碼!\")\n",
    "                    if rqs == \"1\":\n",
    "                        print(\"✓ 登出成功 ✓\")\n",
    "                        print(\"---------------------------\")\n",
    "                        break\n",
    "                    if rqs == \"2\":\n",
    "                        original_pwd = input(\"請出入你的原始密碼: \")\n",
    "                        if original_pwd == pwd:\n",
    "                            new_pwd = input(\"請輸入新密碼: \")\n",
    "                            new_pwd_confirm = input(\"請再次輸入密碼: \")\n",
    "                            if new_pwd != new_pwd_confirm:\n",
    "                                print(\"密碼不符合!\")\n",
    "                            else:\n",
    "                                accounts[ac] = new_pwd\n",
    "                                print(\"密碼已成功修改 您已被登出!\")\n",
    "                                break\n",
    "                                \n",
    "                        else:\n",
    "                            print(\"密碼輸入錯誤!\")\n",
    "                            continue\n",
    "                continue\n",
    "            else:\n",
    "                print(\"x 密碼錯誤! x\")\n",
    "                continue\n",
    "        else:\n",
    "            print(f\"找不到帳號{ac}\")\n",
    "            continue\n",
    "\n",
    "    if act == \"q\":\n",
    "        break\n",
    "        \n",
    "print(\"程式結束!\")"
   ]
  },
  {
   "cell_type": "code",
   "execution_count": null,
   "id": "6bb7a251",
   "metadata": {},
   "outputs": [],
   "source": []
  }
 ],
 "metadata": {
  "kernelspec": {
   "display_name": "Python 3 (ipykernel)",
   "language": "python",
   "name": "python3"
  },
  "language_info": {
   "codemirror_mode": {
    "name": "ipython",
    "version": 3
   },
   "file_extension": ".py",
   "mimetype": "text/x-python",
   "name": "python",
   "nbconvert_exporter": "python",
   "pygments_lexer": "ipython3",
   "version": "3.8.7"
  }
 },
 "nbformat": 4,
 "nbformat_minor": 5
}
