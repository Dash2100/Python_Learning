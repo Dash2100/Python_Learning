{
 "cells": [
  {
   "cell_type": "code",
   "execution_count": 1,
   "id": "aebd81c9",
   "metadata": {},
   "outputs": [
    {
     "data": {
      "text/plain": [
       "True"
      ]
     },
     "execution_count": 1,
     "metadata": {},
     "output_type": "execute_result"
    }
   ],
   "source": [
    "x = 7\n",
    "x == 5\n",
    "x == 7"
   ]
  },
  {
   "cell_type": "code",
   "execution_count": 2,
   "id": "09f20636",
   "metadata": {},
   "outputs": [
    {
     "name": "stdout",
     "output_type": "stream",
     "text": [
      "程式結束\n"
     ]
    }
   ],
   "source": [
    "a = 15\n",
    "if a > 18:\n",
    "    print(\"大於18\")\n",
    "print(\"程式結束\")"
   ]
  },
  {
   "cell_type": "code",
   "execution_count": 3,
   "id": "3658ca0e",
   "metadata": {
    "scrolled": true
   },
   "outputs": [
    {
     "name": "stdout",
     "output_type": "stream",
     "text": [
      "請輸入密碼:1234\n",
      "密碼正確\n"
     ]
    }
   ],
   "source": [
    "password = input(\"請輸入密碼:\")\n",
    "if password == \"1234\":\n",
    "    print(\"密碼正確\")\n",
    "else:\n",
    "    print(\"密碼錯誤\\n請重新輸入\")"
   ]
  },
  {
   "cell_type": "code",
   "execution_count": 4,
   "id": "92d9425f",
   "metadata": {},
   "outputs": [
    {
     "name": "stdout",
     "output_type": "stream",
     "text": [
      "請輸入年紀:22\n",
      "青年\n"
     ]
    }
   ],
   "source": [
    "age = int(input(\"請輸入年紀:\"))\n",
    "if age > 18:\n",
    "    print(\"青年\")\n",
    "elif age >=12:\n",
    "    print(\"青少年\")\n",
    "else:\n",
    "    print(\"少年\")"
   ]
  },
  {
   "cell_type": "code",
   "execution_count": 5,
   "id": "5f590951",
   "metadata": {},
   "outputs": [
    {
     "name": "stdout",
     "output_type": "stream",
     "text": [
      "請輸入成績: 1222\n",
      "優\n"
     ]
    }
   ],
   "source": [
    "score = int(input(\"請輸入成績: \"))\n",
    "if score >= 90:\n",
    "    grade = \"優\"\n",
    "elif score >= 80:\n",
    "    grade = \"甲\"\n",
    "elif score >= 70:\n",
    "    grade = \"乙\"\n",
    "elif score >= 60:\n",
    "    grade = \"丙\"\n",
    "else:\n",
    "    grade = \"丁\"\n",
    "print(grade)"
   ]
  },
  {
   "cell_type": "code",
   "execution_count": 6,
   "id": "b743d6ef",
   "metadata": {},
   "outputs": [
    {
     "name": "stdout",
     "output_type": "stream",
     "text": [
      "他是一隻勞贖\n"
     ]
    }
   ],
   "source": [
    "furry = True #毛茸茸的\n",
    "small = True #小的\n",
    "if small:\n",
    "    if furry:\n",
    "        print(\"他是一隻勞贖\")\n",
    "    else:\n",
    "        print(\"他是小蜥蜴\")\n",
    "else:\n",
    "    if furry:\n",
    "        print(\"他是一隻卯咪\")\n",
    "    else:\n",
    "        print(\"他是人類啦\")"
   ]
  },
  {
   "cell_type": "code",
   "execution_count": 7,
   "id": "046e650b",
   "metadata": {},
   "outputs": [
    {
     "name": "stdout",
     "output_type": "stream",
     "text": [
      "請輸入你的國文成績:123\n",
      "請輸入你的數學成績:123\n",
      "哭哭 你沒錢拿 真可憐\n"
     ]
    }
   ],
   "source": [
    "chinese = int(input(\"請輸入你的國文成績:\"))\n",
    "math = int(input(\"請輸入你的數學成績:\"))\n",
    "if chinese == 100 and math == 100:\n",
    "    print(\"你拿到了獎金1000元\")\n",
    "elif chinese == 100 or math == 100:\n",
    "    print(\"你拿到了500元\")\n",
    "else:\n",
    "    print(\"哭哭 你沒錢拿 真可憐\")"
   ]
  },
  {
   "cell_type": "code",
   "execution_count": 11,
   "id": "4d1b9655",
   "metadata": {},
   "outputs": [
    {
     "name": "stdout",
     "output_type": "stream",
     "text": [
      "你真聰明 我都好笨qq\n"
     ]
    }
   ],
   "source": [
    "smart = True #先定義我是聰明的\n",
    "if smart:\n",
    "    print(\"你真聰明 我都好笨qq\")\n",
    "elif not smart: #not True就是False\n",
    "    print(\"你好笨!\")"
   ]
  },
  {
   "cell_type": "code",
   "execution_count": 2,
   "id": "9c644415",
   "metadata": {},
   "outputs": [
    {
     "name": "stdout",
     "output_type": "stream",
     "text": [
      "你要買30000的機車\n",
      "請輸入第1個月的存款:12345678123145678913245678912345\n",
      "你終於存到錢了,存了1個月,總存款為12345678123145678913245678912345\n"
     ]
    }
   ],
   "source": [
    "deposit = 0\n",
    "num = 0\n",
    "print(\"你要買30000的機車\")\n",
    "while deposit < 30000:\n",
    "    num += 1\n",
    "    inputNUM = int( input(\"請輸入第%d個月的存款:\" % num) )\n",
    "    deposit += inputNUM\n",
    "print(\"你終於存到錢了,存了%d個月,總存款為%d\" %(num,deposit))"
   ]
  },
  {
   "cell_type": "code",
   "execution_count": 3,
   "id": "15f40787",
   "metadata": {},
   "outputs": [
    {
     "name": "stdout",
     "output_type": "stream",
     "text": [
      "你要買30000的機車\n",
      "請輸入第1個月的存款:4056456456\n",
      "你終於存到錢了,存了1個月,總存款為4056456456\n"
     ]
    }
   ],
   "source": [
    "#新的字串格式化語法\n",
    "deposit = 0\n",
    "num = 0\n",
    "print(\"你要買30000的機車\")\n",
    "while deposit < 30000:\n",
    "    num += 1\n",
    "    inputNUM = int( input(\"請輸入第{:d}個月的存款:\".format(num)) )\n",
    "    deposit += inputNUM\n",
    "print(\"你終於存到錢了,存了{:d}個月,總存款為{:d}\".format(num,deposit))"
   ]
  },
  {
   "cell_type": "code",
   "execution_count": 4,
   "id": "4850539a",
   "metadata": {},
   "outputs": [
    {
     "name": "stdout",
     "output_type": "stream",
     "text": [
      "你要買30000的機車\n",
      "請輸入第1個月的存款:123\n",
      "請輸入第2個月的存款:999999999\n",
      "你終於存到錢了,存了2個月,總存款為1000000122\n"
     ]
    }
   ],
   "source": [
    "#格式化字串(最方便的方式)\n",
    "deposit = 0\n",
    "num = 0\n",
    "print(\"你要買30000的機車\")\n",
    "while deposit < 30000:\n",
    "    num += 1\n",
    "    inputNUM = int( input(f\"請輸入第{num}個月的存款:\") )\n",
    "    deposit += inputNUM\n",
    "print(f\"你終於存到錢了,存了{num}個月,總存款為{deposit}\")"
   ]
  },
  {
   "cell_type": "code",
   "execution_count": 47,
   "id": "ecc07d6c",
   "metadata": {},
   "outputs": [
    {
     "data": {
      "text/plain": [
       "30"
      ]
     },
     "execution_count": 47,
     "metadata": {},
     "output_type": "execute_result"
    }
   ],
   "source": [
    "import random\n",
    "random.randint(1,100)"
   ]
  },
  {
   "cell_type": "code",
   "execution_count": 52,
   "id": "08c50e83",
   "metadata": {},
   "outputs": [
    {
     "name": "stdout",
     "output_type": "stream",
     "text": [
      "你猜一個數字,1到10之間: 5\n",
      "好棒喔你對了 拍拍手\n"
     ]
    }
   ],
   "source": [
    "import random\n",
    "ans = random.randint(1,10)\n",
    "guess = int( input(\"你猜一個數字,1到10之間: \") )\n",
    "if guess == ans:\n",
    "    print(\"好棒喔你對了 拍拍手\")\n",
    "else:\n",
    "    print(f\"好爛喔 猜錯了 答案是{ans}\")"
   ]
  }
 ],
 "metadata": {
  "kernelspec": {
   "display_name": "Python 3 (ipykernel)",
   "language": "python",
   "name": "python3"
  },
  "language_info": {
   "codemirror_mode": {
    "name": "ipython",
    "version": 3
   },
   "file_extension": ".py",
   "mimetype": "text/x-python",
   "name": "python",
   "nbconvert_exporter": "python",
   "pygments_lexer": "ipython3",
   "version": "3.8.7"
  }
 },
 "nbformat": 4,
 "nbformat_minor": 5
}
