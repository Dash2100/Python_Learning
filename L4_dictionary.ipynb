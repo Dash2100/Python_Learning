{
 "cells": [
  {
   "cell_type": "code",
   "execution_count": 4,
   "id": "7cf8b4d9",
   "metadata": {},
   "outputs": [
    {
     "name": "stdout",
     "output_type": "stream",
     "text": [
      "Taiwan\n",
      "Japan\n",
      "Hong Kong\n"
     ]
    }
   ],
   "source": [
    "codes = {\"tw\":\"Taiwan\",\"jp\":\"Japan\",\"hk\":\"Hong Kong\"}\n",
    "print(codes[\"tw\"])\n",
    "print(codes[\"jp\"])\n",
    "print(codes[\"hk\"])"
   ]
  },
  {
   "cell_type": "code",
   "execution_count": 10,
   "id": "f527b6e1",
   "metadata": {},
   "outputs": [
    {
     "data": {
      "text/plain": [
       "{1: 'one', 2: 'two', 3: 'three', 4: 'four', 5: 'five'}"
      ]
     },
     "execution_count": 10,
     "metadata": {},
     "output_type": "execute_result"
    }
   ],
   "source": [
    "nums = {\n",
    "    1:\"one\",\n",
    "    2:\"two\",\n",
    "    3:\"three\",\n",
    "    4:\"four\",\n",
    "    5:\"five\",\n",
    "}\n",
    "nums"
   ]
  },
  {
   "cell_type": "code",
   "execution_count": 14,
   "id": "ff62d10a",
   "metadata": {},
   "outputs": [
    {
     "data": {
      "text/plain": [
       "{1: 'one', 2: 'two', 3: 'three', 4: 'four', 5: 'six', 6: 'six'}"
      ]
     },
     "execution_count": 14,
     "metadata": {},
     "output_type": "execute_result"
    }
   ],
   "source": [
    "nums[6] = \"six\"\n",
    "nums"
   ]
  },
  {
   "cell_type": "code",
   "execution_count": 16,
   "id": "f57def0e",
   "metadata": {},
   "outputs": [
    {
     "data": {
      "text/plain": [
       "dict"
      ]
     },
     "execution_count": 16,
     "metadata": {},
     "output_type": "execute_result"
    }
   ],
   "source": [
    "type(nums)"
   ]
  },
  {
   "cell_type": "code",
   "execution_count": 19,
   "id": "a919463b",
   "metadata": {},
   "outputs": [
    {
     "data": {
      "text/plain": [
       "{}"
      ]
     },
     "execution_count": 19,
     "metadata": {},
     "output_type": "execute_result"
    }
   ],
   "source": [
    "empty={}\n",
    "empty"
   ]
  },
  {
   "cell_type": "code",
   "execution_count": 3,
   "id": "45106fbc",
   "metadata": {},
   "outputs": [
    {
     "data": {
      "text/plain": [
       "[{'chinese': 76, 'english': 72, 'math': 77, 'history': 78, 'nature': 50},\n",
       " {'chinese': 89, 'english': 63, 'math': 95, 'history': 53, 'nature': 71},\n",
       " {'chinese': 67, 'english': 87, 'math': 55, 'history': 50, 'nature': 50},\n",
       " {'chinese': 82, 'english': 65, 'math': 56, 'history': 81, 'nature': 69},\n",
       " {'chinese': 73, 'english': 94, 'math': 77, 'history': 69, 'nature': 73},\n",
       " {'chinese': 99, 'english': 84, 'math': 68, 'history': 99, 'nature': 92},\n",
       " {'chinese': 91, 'english': 62, 'math': 67, 'history': 65, 'nature': 72},\n",
       " {'chinese': 98, 'english': 54, 'math': 53, 'history': 88, 'nature': 88},\n",
       " {'chinese': 88, 'english': 75, 'math': 65, 'history': 79, 'nature': 60},\n",
       " {'chinese': 79, 'english': 87, 'math': 98, 'history': 59, 'nature': 56},\n",
       " {'chinese': 60, 'english': 83, 'math': 85, 'history': 56, 'nature': 50},\n",
       " {'chinese': 99, 'english': 64, 'math': 69, 'history': 71, 'nature': 79},\n",
       " {'chinese': 74, 'english': 75, 'math': 74, 'history': 50, 'nature': 91},\n",
       " {'chinese': 50, 'english': 83, 'math': 75, 'history': 68, 'nature': 52},\n",
       " {'chinese': 89, 'english': 64, 'math': 54, 'history': 97, 'nature': 89},\n",
       " {'chinese': 70, 'english': 73, 'math': 66, 'history': 53, 'nature': 74},\n",
       " {'chinese': 65, 'english': 85, 'math': 60, 'history': 77, 'nature': 56},\n",
       " {'chinese': 91, 'english': 50, 'math': 74, 'history': 86, 'nature': 66},\n",
       " {'chinese': 96, 'english': 68, 'math': 52, 'history': 65, 'nature': 62},\n",
       " {'chinese': 63, 'english': 91, 'math': 94, 'history': 55, 'nature': 88},\n",
       " {'chinese': 65, 'english': 97, 'math': 50, 'history': 61, 'nature': 86},\n",
       " {'chinese': 82, 'english': 78, 'math': 78, 'history': 77, 'nature': 54},\n",
       " {'chinese': 65, 'english': 91, 'math': 90, 'history': 100, 'nature': 59},\n",
       " {'chinese': 66, 'english': 81, 'math': 67, 'history': 95, 'nature': 51},\n",
       " {'chinese': 93, 'english': 85, 'math': 51, 'history': 54, 'nature': 98},\n",
       " {'chinese': 91, 'english': 64, 'math': 70, 'history': 50, 'nature': 55},\n",
       " {'chinese': 77, 'english': 91, 'math': 84, 'history': 99, 'nature': 85},\n",
       " {'chinese': 60, 'english': 66, 'math': 56, 'history': 51, 'nature': 75},\n",
       " {'chinese': 88, 'english': 72, 'math': 86, 'history': 68, 'nature': 99},\n",
       " {'chinese': 87, 'english': 70, 'math': 82, 'history': 94, 'nature': 51},\n",
       " {'chinese': 90, 'english': 79, 'math': 58, 'history': 76, 'nature': 68},\n",
       " {'chinese': 78, 'english': 54, 'math': 82, 'history': 70, 'nature': 58},\n",
       " {'chinese': 61, 'english': 68, 'math': 83, 'history': 86, 'nature': 61},\n",
       " {'chinese': 65, 'english': 66, 'math': 83, 'history': 59, 'nature': 78},\n",
       " {'chinese': 71, 'english': 93, 'math': 55, 'history': 59, 'nature': 80},\n",
       " {'chinese': 53, 'english': 99, 'math': 84, 'history': 85, 'nature': 68},\n",
       " {'chinese': 68, 'english': 88, 'math': 56, 'history': 97, 'nature': 82},\n",
       " {'chinese': 82, 'english': 68, 'math': 86, 'history': 90, 'nature': 83},\n",
       " {'chinese': 96, 'english': 83, 'math': 78, 'history': 82, 'nature': 78},\n",
       " {'chinese': 72, 'english': 96, 'math': 85, 'history': 100, 'nature': 91},\n",
       " {'chinese': 90, 'english': 51, 'math': 86, 'history': 74, 'nature': 79},\n",
       " {'chinese': 63, 'english': 62, 'math': 62, 'history': 75, 'nature': 54},\n",
       " {'chinese': 98, 'english': 51, 'math': 55, 'history': 91, 'nature': 51},\n",
       " {'chinese': 88, 'english': 65, 'math': 99, 'history': 65, 'nature': 52},\n",
       " {'chinese': 88, 'english': 93, 'math': 66, 'history': 80, 'nature': 66},\n",
       " {'chinese': 52, 'english': 60, 'math': 98, 'history': 100, 'nature': 95},\n",
       " {'chinese': 98, 'english': 83, 'math': 88, 'history': 87, 'nature': 76},\n",
       " {'chinese': 74, 'english': 50, 'math': 97, 'history': 81, 'nature': 69},\n",
       " {'chinese': 54, 'english': 52, 'math': 63, 'history': 68, 'nature': 75},\n",
       " {'chinese': 57, 'english': 55, 'math': 85, 'history': 70, 'nature': 78}]"
      ]
     },
     "execution_count": 3,
     "metadata": {},
     "output_type": "execute_result"
    }
   ],
   "source": [
    "import random\n",
    "students = []\n",
    "for _ in range(50): #重複50次\n",
    "    scores = dict() #把scores設定成一個dictionary\n",
    "    subjects = [\"chinese\", \"english\", \"math\", \"history\", \"nature\"] #把subjects設定成一個list 裡面放入這些\n",
    "    for sub in subjects: #從subjects中取出資料 並設定成sub\n",
    "        scores[sub] = random.randint(50,100) #scores為dict所以直接定義score[科目] = 分數 \n",
    "        #(因為設定的資料原本不存在會直接再dict中新建一個 key 然後分數設定成50~100隨機數 | 此處一個人會執行5個 共250次\n",
    "    students.append(scores) #把剛剛的score字典丟到一個叫做students的list中\n",
    "students"
   ]
  },
  {
   "cell_type": "code",
   "execution_count": 4,
   "id": "a1404fbc",
   "metadata": {},
   "outputs": [],
   "source": [
    "signals = {'綠燈': '走', '黃燈': '走快些', '紅燈': '停等'}"
   ]
  },
  {
   "cell_type": "code",
   "execution_count": 8,
   "id": "78f2325a",
   "metadata": {},
   "outputs": [
    {
     "data": {
      "text/plain": [
       "dict_keys(['綠燈', '黃燈', '紅燈'])"
      ]
     },
     "execution_count": 8,
     "metadata": {},
     "output_type": "execute_result"
    }
   ],
   "source": [
    "signals.keys()"
   ]
  },
  {
   "cell_type": "code",
   "execution_count": 15,
   "id": "7bf0126f",
   "metadata": {},
   "outputs": [
    {
     "data": {
      "text/plain": [
       "dict_values(['走', '走快些', '停等'])"
      ]
     },
     "execution_count": 15,
     "metadata": {},
     "output_type": "execute_result"
    }
   ],
   "source": [
    "signals.values()"
   ]
  },
  {
   "cell_type": "code",
   "execution_count": 18,
   "id": "6bdc12c2",
   "metadata": {},
   "outputs": [
    {
     "name": "stdout",
     "output_type": "stream",
     "text": [
      "key:綠燈\n",
      "key:黃燈\n",
      "key:紅燈\n"
     ]
    }
   ],
   "source": [
    "for key in signals.keys():\n",
    "    print(f\"key:{key}\")"
   ]
  },
  {
   "cell_type": "code",
   "execution_count": 22,
   "id": "537d0bf9",
   "metadata": {},
   "outputs": [
    {
     "name": "stdout",
     "output_type": "stream",
     "text": [
      "values:走\n",
      "values:走快些\n",
      "values:停等\n"
     ]
    }
   ],
   "source": [
    "for value in signals.values():\n",
    "    print(f\"values:{value}\")"
   ]
  },
  {
   "cell_type": "code",
   "execution_count": 26,
   "id": "4e0c2e0d",
   "metadata": {},
   "outputs": [
    {
     "name": "stdout",
     "output_type": "stream",
     "text": [
      "key:綠燈 vaule:走\n",
      "key:黃燈 vaule:走快些\n",
      "key:紅燈 vaule:停等\n"
     ]
    }
   ],
   "source": [
    "for key,vaule in signals.items():\n",
    "    print(F\"key:{key} vaule:{vaule}\")"
   ]
  },
  {
   "cell_type": "code",
   "execution_count": 54,
   "id": "b6009aaa",
   "metadata": {},
   "outputs": [
    {
     "name": "stdout",
     "output_type": "stream",
     "text": [
      "chinese\tenglish\tmath\thistory\tnature\t總分\t平均\t\n",
      "76\t72\t77\t78\t77\t353\t70.6\n",
      "89\t63\t95\t53\t95\t371\t74.2\n",
      "67\t87\t55\t50\t55\t309\t61.8\n",
      "82\t65\t56\t81\t56\t353\t70.6\n",
      "73\t94\t77\t69\t77\t386\t77.2\n",
      "99\t84\t68\t99\t68\t442\t88.4\n",
      "91\t62\t67\t65\t67\t357\t71.4\n",
      "98\t54\t53\t88\t53\t381\t76.2\n",
      "88\t75\t65\t79\t65\t367\t73.4\n",
      "79\t87\t98\t59\t98\t379\t75.8\n",
      "60\t83\t85\t56\t85\t334\t66.8\n",
      "99\t64\t69\t71\t69\t382\t76.4\n",
      "74\t75\t74\t50\t74\t364\t72.8\n",
      "50\t83\t75\t68\t75\t328\t65.6\n",
      "89\t64\t54\t97\t54\t393\t78.6\n",
      "70\t73\t66\t53\t66\t336\t67.2\n",
      "65\t85\t60\t77\t60\t343\t68.6\n",
      "91\t50\t74\t86\t74\t367\t73.4\n",
      "96\t68\t52\t65\t52\t343\t68.6\n",
      "63\t91\t94\t55\t94\t391\t78.2\n",
      "65\t97\t50\t61\t50\t359\t71.8\n",
      "82\t78\t78\t77\t78\t369\t73.8\n",
      "65\t91\t90\t100\t90\t405\t81.0\n",
      "66\t81\t67\t95\t67\t360\t72.0\n",
      "93\t85\t51\t54\t51\t381\t76.2\n",
      "91\t64\t70\t50\t70\t330\t66.0\n",
      "77\t91\t84\t99\t84\t436\t87.2\n",
      "60\t66\t56\t51\t56\t308\t61.6\n",
      "88\t72\t86\t68\t86\t413\t82.6\n",
      "87\t70\t82\t94\t82\t384\t76.8\n",
      "90\t79\t58\t76\t58\t371\t74.2\n",
      "78\t54\t82\t70\t82\t342\t68.4\n",
      "61\t68\t83\t86\t83\t359\t71.8\n",
      "65\t66\t83\t59\t83\t351\t70.2\n",
      "71\t93\t55\t59\t55\t358\t71.6\n",
      "53\t99\t84\t85\t84\t389\t77.8\n",
      "68\t88\t56\t97\t56\t391\t78.2\n",
      "82\t68\t86\t90\t86\t409\t81.8\n",
      "96\t83\t78\t82\t78\t417\t83.4\n",
      "72\t96\t85\t100\t85\t444\t88.8\n",
      "90\t51\t86\t74\t86\t380\t76.0\n",
      "63\t62\t62\t75\t62\t316\t63.2\n",
      "98\t51\t55\t91\t55\t346\t69.2\n",
      "88\t65\t99\t65\t99\t369\t73.8\n",
      "88\t93\t66\t80\t66\t393\t78.6\n",
      "52\t60\t98\t100\t98\t405\t81.0\n",
      "98\t83\t88\t87\t88\t432\t86.4\n",
      "74\t50\t97\t81\t97\t371\t74.2\n",
      "54\t52\t63\t68\t63\t312\t62.4\n",
      "57\t55\t85\t70\t85\t345\t69.0\n"
     ]
    }
   ],
   "source": [
    "students[0].keys()\n",
    "for name in subjects:\n",
    "    print(name,end=\"\\t\")\n",
    "print(\"總分\",end=\"\\t\")\n",
    "print(\"平均\",end=\"\\t\")\n",
    "print()\n",
    "for student in students:\n",
    "    print(f'{student[\"chinese\"]}\\t{student[\"english\"]}\\t{student[\"math\"]}\\t{student[\"history\"]}\\t{student[\"math\"]}',end=\"\\t\")\n",
    "    sum = 0\n",
    "    for item in student.values():\n",
    "        sum += item   \n",
    "    print(sum,end=\"\\t\")\n",
    "    print(sum/5.0)"
   ]
  }
 ],
 "metadata": {
  "kernelspec": {
   "display_name": "Python 3 (ipykernel)",
   "language": "python",
   "name": "python3"
  },
  "language_info": {
   "codemirror_mode": {
    "name": "ipython",
    "version": 3
   },
   "file_extension": ".py",
   "mimetype": "text/x-python",
   "name": "python",
   "nbconvert_exporter": "python",
   "pygments_lexer": "ipython3",
   "version": "3.8.7"
  }
 },
 "nbformat": 4,
 "nbformat_minor": 5
}
