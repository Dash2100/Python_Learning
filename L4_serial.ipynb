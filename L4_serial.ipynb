{
 "cells": [
  {
   "cell_type": "code",
   "execution_count": 3,
   "id": "42da6df5",
   "metadata": {},
   "outputs": [
    {
     "name": "stdout",
     "output_type": "stream",
     "text": [
      "[]\n",
      "[]\n"
     ]
    }
   ],
   "source": [
    "#python資料結構\n",
    "#建立空陣列\n",
    "empty_list = []\n",
    "print(empty_list)\n",
    "another_empty_list = list()\n",
    "print(another_empty_list)"
   ]
  },
  {
   "cell_type": "code",
   "execution_count": 6,
   "id": "ab5985c1",
   "metadata": {},
   "outputs": [
    {
     "name": "stdout",
     "output_type": "stream",
     "text": [
      "星期二\n",
      "星期六\n",
      "星期日\n",
      "['星期一', '星期二', '星期三', '星期四', '星期五', '星期六', '星期日']\n"
     ]
    }
   ],
   "source": [
    "weekdays = ['星期一', '星期二', '星期三', '星期四', '星期五', '星期六', '星期日'] \n",
    "print(weekdays[1])\n",
    "print(weekdays[5])\n",
    "print(weekdays[6])\n",
    "print(weekdays)"
   ]
  },
  {
   "cell_type": "code",
   "execution_count": 17,
   "id": "81a31b91",
   "metadata": {},
   "outputs": [
    {
     "name": "stdout",
     "output_type": "stream",
     "text": [
      "cat\n"
     ]
    },
    {
     "data": {
      "text/plain": [
       "[10, 11, 12, 13, 14, 15, 16, 17, 18, 19, 20]"
      ]
     },
     "execution_count": 17,
     "metadata": {},
     "output_type": "execute_result"
    }
   ],
   "source": [
    "str = \"cat\"\n",
    "list(str)\n",
    "print(str)\n",
    "list(range(10,21))"
   ]
  },
  {
   "cell_type": "code",
   "execution_count": 18,
   "id": "83130bbf",
   "metadata": {},
   "outputs": [
    {
     "name": "stdout",
     "output_type": "stream",
     "text": [
      "['h', 'i']\n",
      "('h', 'i')\n",
      "['h', 'a']\n",
      "('h', 'i')\n"
     ]
    }
   ],
   "source": [
    "list1 = [\"h\",\"i\"]\n",
    "tuple1 = (\"h\",\"i\")\n",
    "\n",
    "print(list1)\n",
    "print(tuple1)\n",
    "\n",
    "list1[1] = \"a\"\n",
    "#tuple1[1] = \"a\"\n",
    "print(list1)\n",
    "print(tuple1)"
   ]
  },
  {
   "cell_type": "code",
   "execution_count": 19,
   "id": "8dc4ed6f",
   "metadata": {},
   "outputs": [
    {
     "data": {
      "text/plain": [
       "['H', 'e', 'l', 'l', 'o', 'W', 'o', 'r', 'l', 'd']"
      ]
     },
     "execution_count": 19,
     "metadata": {},
     "output_type": "execute_result"
    }
   ],
   "source": [
    "list1 = list(\"HelloWorld\")\n",
    "list1"
   ]
  },
  {
   "cell_type": "code",
   "execution_count": 20,
   "id": "5ad244bc",
   "metadata": {},
   "outputs": [
    {
     "data": {
      "text/plain": [
       "'l'"
      ]
     },
     "execution_count": 20,
     "metadata": {},
     "output_type": "execute_result"
    }
   ],
   "source": [
    "list1[2]"
   ]
  },
  {
   "cell_type": "code",
   "execution_count": 21,
   "id": "7d63b5b9",
   "metadata": {},
   "outputs": [
    {
     "data": {
      "text/plain": [
       "['l']"
      ]
     },
     "execution_count": 21,
     "metadata": {},
     "output_type": "execute_result"
    }
   ],
   "source": [
    "list1[2:3]"
   ]
  },
  {
   "cell_type": "code",
   "execution_count": 22,
   "id": "e1fd8b3f",
   "metadata": {},
   "outputs": [
    {
     "data": {
      "text/plain": [
       "['l', 'l', 'o']"
      ]
     },
     "execution_count": 22,
     "metadata": {},
     "output_type": "execute_result"
    }
   ],
   "source": [
    "list1[2:5]"
   ]
  },
  {
   "cell_type": "code",
   "execution_count": 23,
   "id": "1d10f6a3",
   "metadata": {},
   "outputs": [
    {
     "data": {
      "text/plain": [
       "['H', 'e', 'l', 'l', 'o']"
      ]
     },
     "execution_count": 23,
     "metadata": {},
     "output_type": "execute_result"
    }
   ],
   "source": [
    "#取前五個\n",
    "list1[:5]"
   ]
  },
  {
   "cell_type": "code",
   "execution_count": 24,
   "id": "bfa441cf",
   "metadata": {},
   "outputs": [
    {
     "data": {
      "text/plain": [
       "['W', 'o', 'r', 'l', 'd']"
      ]
     },
     "execution_count": 24,
     "metadata": {},
     "output_type": "execute_result"
    }
   ],
   "source": [
    "#取後五個\n",
    "list1[5:]"
   ]
  },
  {
   "cell_type": "code",
   "execution_count": 25,
   "id": "c53dda9b",
   "metadata": {},
   "outputs": [
    {
     "data": {
      "text/plain": [
       "['W', 'o', 'r', 'l', 'd']"
      ]
     },
     "execution_count": 25,
     "metadata": {},
     "output_type": "execute_result"
    }
   ],
   "source": [
    "#取後五個\n",
    "list1[-5:]"
   ]
  },
  {
   "cell_type": "code",
   "execution_count": 32,
   "id": "0409f1f9",
   "metadata": {},
   "outputs": [
    {
     "data": {
      "text/plain": [
       "[['桌電', '筆電', '平板電腦'], ['Razer', 'Asus', 'Apple'], [1, '電視', 2, '電腦', 3, '電燈']]"
      ]
     },
     "execution_count": 32,
     "metadata": {},
     "output_type": "execute_result"
    }
   ],
   "source": [
    "computer = [\"桌電\",\"筆電\",\"平板電腦\"]\n",
    "mobile = [\"Razer\",\"Asus\",\"Apple\"]\n",
    "home = [1,\"電視\",2,\"電腦\",3,\"電燈\"]\n",
    "\n",
    "all3c = [computer,mobile,home]\n",
    "all3c"
   ]
  },
  {
   "cell_type": "code",
   "execution_count": 34,
   "id": "2d64855a",
   "metadata": {},
   "outputs": [
    {
     "data": {
      "text/plain": [
       "['桌電', '筆電', '平板電腦']"
      ]
     },
     "execution_count": 34,
     "metadata": {},
     "output_type": "execute_result"
    }
   ],
   "source": [
    "all3c[0]"
   ]
  },
  {
   "cell_type": "code",
   "execution_count": 36,
   "id": "7a617698",
   "metadata": {},
   "outputs": [
    {
     "data": {
      "text/plain": [
       "'Razer'"
      ]
     },
     "execution_count": 36,
     "metadata": {},
     "output_type": "execute_result"
    }
   ],
   "source": [
    "all3c[1][0]"
   ]
  },
  {
   "cell_type": "code",
   "execution_count": 39,
   "id": "de4198a4",
   "metadata": {},
   "outputs": [
    {
     "name": "stdout",
     "output_type": "stream",
     "text": [
      "['H', 'e', 'l', 'l', 'o', 'W', 'o', 'r', 'l', 'd']\n",
      "10\n"
     ]
    }
   ],
   "source": [
    "list1 = list(\"HelloWorld\")\n",
    "print(list1)\n",
    "print(len(list1))"
   ]
  },
  {
   "cell_type": "code",
   "execution_count": 42,
   "id": "73ed9fbe",
   "metadata": {},
   "outputs": [
    {
     "name": "stdout",
     "output_type": "stream",
     "text": [
      "第0位數為: H\n",
      "第1位數為: e\n",
      "第2位數為: l\n",
      "第3位數為: l\n",
      "第4位數為: o\n",
      "第5位數為: W\n",
      "第6位數為: o\n",
      "第7位數為: r\n",
      "第8位數為: l\n",
      "第9位數為: d\n"
     ]
    }
   ],
   "source": [
    "for index in range(0,len(list1)):#\n",
    "    print(f\"第{index}位數為: {list1[index]}\") #取出list1中的第index位數"
   ]
  },
  {
   "cell_type": "code",
   "execution_count": 88,
   "id": "bff4ecc3",
   "metadata": {},
   "outputs": [
    {
     "name": "stdout",
     "output_type": "stream",
     "text": [
      "H\n",
      "e\n",
      "l\n",
      "l\n",
      "o\n",
      "W\n",
      "o\n",
      "r\n",
      "l\n",
      "d\n"
     ]
    }
   ],
   "source": [
    "for index in list1:\n",
    "    print(index)"
   ]
  },
  {
   "cell_type": "code",
   "execution_count": 48,
   "id": "72eb632e",
   "metadata": {},
   "outputs": [
    {
     "name": "stdout",
     "output_type": "stream",
     "text": [
      "第0位數為: H\n",
      "第1位數為: e\n",
      "第2位數為: l\n",
      "第3位數為: l\n",
      "第4位數為: o\n",
      "第5位數為: W\n",
      "第6位數為: o\n",
      "第7位數為: r\n",
      "第8位數為: l\n",
      "第9位數為: d\n"
     ]
    }
   ],
   "source": [
    "for tupleItem in enumerate(list1):\n",
    "    index,item = tupleItem\n",
    "    print(F\"第{index}位數D為: {item}\")"
   ]
  },
  {
   "cell_type": "code",
   "execution_count": 50,
   "id": "356885ee",
   "metadata": {},
   "outputs": [
    {
     "name": "stdout",
     "output_type": "stream",
     "text": [
      "第0位數為: H\n",
      "第1位數為: e\n",
      "第2位數為: l\n",
      "第3位數為: l\n",
      "第4位數為: o\n",
      "第5位數為: W\n",
      "第6位數為: o\n",
      "第7位數為: r\n",
      "第8位數為: l\n",
      "第9位數為: d\n"
     ]
    }
   ],
   "source": [
    "for index,item in enumerate(list1):\n",
    "    print(F\"第{index}位數為: {item}\")"
   ]
  },
  {
   "cell_type": "code",
   "execution_count": 53,
   "id": "fd5ed662",
   "metadata": {},
   "outputs": [
    {
     "name": "stdout",
     "output_type": "stream",
     "text": [
      "(0, 'H')\n",
      "(1, 'e')\n",
      "(2, 'l')\n",
      "(3, 'l')\n",
      "(4, 'o')\n",
      "(5, 'W')\n",
      "(6, 'o')\n",
      "(7, 'r')\n",
      "(8, 'l')\n",
      "(9, 'd')\n"
     ]
    }
   ],
   "source": [
    "for item in enumerate(list1):\n",
    "    print(item)"
   ]
  },
  {
   "cell_type": "code",
   "execution_count": 55,
   "id": "5f3f67e6",
   "metadata": {},
   "outputs": [
    {
     "name": "stdout",
     "output_type": "stream",
     "text": [
      "你好\n",
      "你好\n",
      "你好\n",
      "你好\n",
      "你好\n"
     ]
    }
   ],
   "source": [
    "for _ in range(5):\n",
    "    print(\"你好\")"
   ]
  },
  {
   "cell_type": "code",
   "execution_count": 75,
   "id": "b2c06688",
   "metadata": {},
   "outputs": [
    {
     "name": "stdout",
     "output_type": "stream",
     "text": [
      "25\n",
      "80\n",
      "35\n",
      "100\n",
      "54\n",
      "[25, 80, 35, 100, 54]\n"
     ]
    }
   ],
   "source": [
    "import random\n",
    "score = []\n",
    "for _ in range(5):\n",
    "    score.append(random.randint(1,100))\n",
    "\n",
    "for s in score:\n",
    "    print(s)\n",
    "    \n",
    "print(score)"
   ]
  },
  {
   "cell_type": "code",
   "execution_count": 77,
   "id": "6c2a5a83",
   "metadata": {},
   "outputs": [
    {
     "name": "stdout",
     "output_type": "stream",
     "text": [
      "73\n",
      "8\n",
      "64\n",
      "38\n",
      "28\n",
      "[]\n"
     ]
    }
   ],
   "source": [
    "import random\n",
    "score = []\n",
    "for _ in range(5):\n",
    "    print(random.randint(1,100))\n",
    "    \n",
    "print(score)"
   ]
  },
  {
   "cell_type": "code",
   "execution_count": 82,
   "id": "b76501d8",
   "metadata": {},
   "outputs": [
    {
     "name": "stdout",
     "output_type": "stream",
     "text": [
      "[91, 45, 27, 65, 95]\n",
      "[13, 81, 81, 5, 28]\n",
      "[19, 40, 25, 48, 44]\n",
      "[23, 45, 80, 84, 16]\n",
      "[37, 94, 76, 97, 53]\n",
      "[5, 27, 35, 15, 49]\n",
      "[26, 37, 69, 83, 99]\n",
      "[7, 18, 37, 31, 26]\n",
      "[63, 57, 62, 1, 73]\n",
      "[72, 60, 11, 13, 12]\n",
      "[20, 30, 72, 82, 95]\n",
      "[90, 48, 58, 65, 100]\n",
      "[81, 3, 32, 67, 22]\n",
      "[69, 11, 95, 75, 5]\n",
      "[72, 91, 52, 94, 29]\n",
      "[47, 50, 22, 80, 36]\n",
      "[75, 36, 5, 14, 92]\n",
      "[88, 50, 79, 21, 4]\n",
      "[97, 56, 78, 17, 39]\n",
      "[51, 33, 92, 27, 64]\n",
      "[30, 11, 27, 18, 22]\n",
      "[78, 59, 59, 14, 86]\n",
      "[5, 96, 95, 30, 59]\n",
      "[6, 79, 81, 14, 5]\n",
      "[29, 28, 58, 78, 14]\n",
      "[44, 24, 52, 100, 56]\n",
      "[89, 50, 32, 92, 13]\n",
      "[98, 69, 95, 80, 44]\n",
      "[28, 100, 60, 29, 80]\n",
      "[93, 92, 37, 38, 37]\n",
      "[96, 99, 99, 47, 14]\n",
      "[61, 4, 23, 83, 6]\n",
      "[25, 55, 89, 75, 14]\n",
      "[88, 1, 23, 40, 43]\n",
      "[72, 36, 16, 40, 93]\n",
      "[16, 17, 87, 90, 91]\n",
      "[94, 14, 13, 29, 40]\n",
      "[42, 95, 49, 84, 97]\n",
      "[39, 43, 40, 47, 87]\n",
      "[76, 32, 54, 51, 71]\n",
      "[88, 49, 32, 83, 15]\n",
      "[63, 85, 68, 97, 43]\n",
      "[94, 53, 45, 72, 16]\n",
      "[1, 62, 86, 28, 4]\n",
      "[68, 29, 3, 71, 74]\n",
      "[95, 85, 76, 34, 40]\n",
      "[16, 86, 42, 84, 14]\n",
      "[95, 100, 57, 86, 2]\n",
      "[99, 69, 29, 75, 95]\n",
      "[20, 74, 23, 16, 61]\n"
     ]
    }
   ],
   "source": [
    "import random\n",
    "students = []\n",
    "\n",
    "for _ in range(50):\n",
    "    score = []\n",
    "    for _ in range(5):\n",
    "        score.append(random.randint(1,100))\n",
    "    students.append(score)\n",
    "        \n",
    "for s in students:\n",
    "    print(s)"
   ]
  },
  {
   "cell_type": "code",
   "execution_count": 89,
   "id": "c59db559",
   "metadata": {},
   "outputs": [
    {
     "name": "stdout",
     "output_type": "stream",
     "text": [
      "第1個學生為[78, 26, 43, 75, 57]\n",
      "第2個學生為[96, 54, 57, 51, 26]\n",
      "第3個學生為[22, 31, 1, 84, 92]\n",
      "第4個學生為[61, 19, 42, 61, 83]\n",
      "第5個學生為[87, 38, 49, 35, 51]\n",
      "第6個學生為[5, 80, 41, 61, 17]\n",
      "第7個學生為[23, 39, 35, 92, 87]\n",
      "第8個學生為[98, 6, 9, 3, 31]\n",
      "第9個學生為[18, 88, 20, 78, 26]\n",
      "第10個學生為[99, 38, 35, 21, 12]\n",
      "第11個學生為[99, 54, 49, 30, 14]\n",
      "第12個學生為[28, 33, 59, 19, 70]\n",
      "第13個學生為[1, 80, 28, 86, 69]\n",
      "第14個學生為[63, 76, 51, 18, 98]\n",
      "第15個學生為[21, 82, 4, 81, 58]\n",
      "第16個學生為[52, 73, 10, 62, 66]\n",
      "第17個學生為[69, 79, 88, 83, 16]\n",
      "第18個學生為[12, 8, 16, 99, 82]\n",
      "第19個學生為[72, 78, 25, 12, 86]\n",
      "第20個學生為[69, 77, 36, 31, 74]\n",
      "第21個學生為[62, 99, 93, 31, 3]\n",
      "第22個學生為[51, 48, 63, 93, 80]\n",
      "第23個學生為[99, 58, 85, 51, 91]\n",
      "第24個學生為[5, 91, 51, 3, 1]\n",
      "第25個學生為[61, 90, 42, 54, 65]\n",
      "第26個學生為[24, 17, 49, 27, 23]\n",
      "第27個學生為[37, 68, 39, 84, 73]\n",
      "第28個學生為[78, 37, 38, 79, 33]\n",
      "第29個學生為[5, 33, 24, 2, 50]\n",
      "第30個學生為[53, 62, 52, 83, 9]\n",
      "第31個學生為[80, 48, 31, 88, 41]\n",
      "第32個學生為[91, 33, 34, 22, 52]\n",
      "第33個學生為[86, 40, 94, 100, 93]\n",
      "第34個學生為[5, 12, 54, 66, 1]\n",
      "第35個學生為[85, 73, 64, 71, 20]\n",
      "第36個學生為[71, 33, 62, 94, 8]\n",
      "第37個學生為[22, 64, 35, 71, 16]\n",
      "第38個學生為[55, 62, 44, 26, 50]\n",
      "第39個學生為[37, 59, 92, 35, 2]\n",
      "第40個學生為[72, 19, 15, 83, 80]\n",
      "第41個學生為[46, 50, 73, 54, 50]\n",
      "第42個學生為[26, 44, 86, 67, 62]\n",
      "第43個學生為[14, 29, 51, 73, 76]\n",
      "第44個學生為[16, 42, 48, 10, 57]\n",
      "第45個學生為[11, 68, 3, 6, 38]\n",
      "第46個學生為[78, 76, 1, 49, 29]\n",
      "第47個學生為[88, 64, 44, 70, 22]\n",
      "第48個學生為[39, 80, 24, 98, 88]\n",
      "第49個學生為[5, 57, 90, 90, 85]\n",
      "第50個學生為[9, 26, 76, 3, 56]\n"
     ]
    }
   ],
   "source": [
    "import random\n",
    "students = []\n",
    "\n",
    "for _ in range(50):\n",
    "    score = []\n",
    "    for _ in range(5):\n",
    "        score.append(random.randint(1,100))\n",
    "    students.append(score)\n",
    "        \n",
    "for index,student in enumerate(students):\n",
    "    print(f\"第{index+1}個學生為{student}\")"
   ]
  },
  {
   "cell_type": "code",
   "execution_count": null,
   "id": "f05c83e8",
   "metadata": {},
   "outputs": [],
   "source": []
  }
 ],
 "metadata": {
  "kernelspec": {
   "display_name": "Python 3 (ipykernel)",
   "language": "python",
   "name": "python3"
  },
  "language_info": {
   "codemirror_mode": {
    "name": "ipython",
    "version": 3
   },
   "file_extension": ".py",
   "mimetype": "text/x-python",
   "name": "python",
   "nbconvert_exporter": "python",
   "pygments_lexer": "ipython3",
   "version": "3.8.7"
  }
 },
 "nbformat": 4,
 "nbformat_minor": 5
}
