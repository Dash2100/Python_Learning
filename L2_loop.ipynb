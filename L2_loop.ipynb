{
 "cells": [
  {
   "cell_type": "code",
   "execution_count": null,
   "id": "4dc0dedd",
   "metadata": {},
   "outputs": [],
   "source": [
    "while(True):\n",
    "    stuff = input(\"請輸入小寫字母 [按q離開程式]\")\n",
    "    if stuff == \"q\":\n",
    "        break\n",
    "    print(stuff.upper())\n",
    "print(\"程式結束\")"
   ]
  },
  {
   "cell_type": "code",
   "execution_count": 44,
   "id": "f08e0dc3",
   "metadata": {},
   "outputs": [
    {
     "name": "stdout",
     "output_type": "stream",
     "text": [
      "請輸入第1個數值: 1\n",
      "請輸入第2個數值: 1\n",
      "請輸入第3個數值: 1\n",
      "請輸入第4個數值: 1\n",
      "請輸入第5個數值: 1\n",
      "請輸入第6個數值: -1\n",
      "所有輸入正偶數的加總是: 0\n"
     ]
    }
   ],
   "source": [
    "sum = 0\n",
    "num = 0\n",
    "while True:\n",
    "    num += 1\n",
    "    inputNum = int(input(f\"請輸入第{num}個數值: \"))\n",
    "    if inputNum < 0:\n",
    "        break\n",
    "    elif inputNum%2 == 1:\n",
    "        continue\n",
    "    else:\n",
    "        sum += inputNum\n",
    "print(f\"所有輸入正偶數的加總是: {sum}\")"
   ]
  },
  {
   "cell_type": "code",
   "execution_count": null,
   "id": "e188eaff",
   "metadata": {},
   "outputs": [
    {
     "name": "stdout",
     "output_type": "stream",
     "text": [
      "=====================猜數字遊戲!=====================\n",
      "\n",
      "猜測的範圍在1~100之間: 11\n",
      "再大一點\n",
      "猜測的範圍在11~100之間: 1\n",
      "請輸入提示範圍內的字\n",
      "猜測的範圍在11~100之間: 1\n",
      "請輸入提示範圍內的字\n",
      "猜測的範圍在11~100之間: 1\n",
      "請輸入提示範圍內的字\n",
      "猜測的範圍在11~100之間: 1\n",
      "請輸入提示範圍內的字\n",
      "猜測的範圍在11~100之間: 1\n",
      "請輸入提示範圍內的字\n",
      "猜測的範圍在11~100之間: 1\n",
      "請輸入提示範圍內的字\n",
      "猜測的範圍在11~100之間: 1\n",
      "請輸入提示範圍內的字\n",
      "猜測的範圍在11~100之間: 111\n",
      "請輸入提示範圍內的字\n",
      "猜測的範圍在11~100之間: 50\n",
      "再大一點\n",
      "猜測的範圍在50~100之間: 30\n",
      "請輸入提示範圍內的字\n",
      "猜測的範圍在50~100之間: 10\n",
      "請輸入提示範圍內的字\n",
      "猜測的範圍在50~100之間: 20\n",
      "請輸入提示範圍內的字\n",
      "猜測的範圍在50~100之間: 50\n",
      "再大一點\n"
     ]
    }
   ],
   "source": [
    "import random\n",
    "min = 1\n",
    "max = 100\n",
    "count = 0\n",
    "target = random.randint(min, max)\n",
    "print(\"=====================猜數字遊戲!=====================\\n\")\n",
    "while True:\n",
    "    count += 1\n",
    "    keyIn = int(input(f\"猜測的範圍在{min}~{max}之間: \"))\n",
    "    if min <= keyIn <= max:\n",
    "        if keyIn == target:\n",
    "            print(f\"你答對了 答案是:{target}\")\n",
    "            print(f\"你總共猜了{count}次\")\n",
    "        elif keyIn > target:\n",
    "            max = keyIn\n",
    "            print(\"再小一點\")\n",
    "        elif keyIn < target:\n",
    "            min = keyIn\n",
    "            print(\"再大一點\")\n",
    "    else:\n",
    "        print(\"請輸入提示範圍內的字\")\n",
    "print(\"Gane Over\")"
   ]
  },
  {
   "cell_type": "code",
   "execution_count": 52,
   "id": "20db21c8",
   "metadata": {},
   "outputs": [
    {
     "name": "stdout",
     "output_type": "stream",
     "text": [
      "3\n",
      "4\n",
      "5\n",
      "6\n",
      "7\n",
      "8\n"
     ]
    }
   ],
   "source": [
    "for i in range(3,9):\n",
    "    print(i)"
   ]
  }
 ],
 "metadata": {
  "kernelspec": {
   "display_name": "Python 3 (ipykernel)",
   "language": "python",
   "name": "python3"
  },
  "language_info": {
   "codemirror_mode": {
    "name": "ipython",
    "version": 3
   },
   "file_extension": ".py",
   "mimetype": "text/x-python",
   "name": "python",
   "nbconvert_exporter": "python",
   "pygments_lexer": "ipython3",
   "version": "3.8.7"
  }
 },
 "nbformat": 4,
 "nbformat_minor": 5
}
