{
 "cells": [
  {
   "cell_type": "code",
   "execution_count": 21,
   "metadata": {},
   "outputs": [
    {
     "name": "stdout",
     "output_type": "stream",
     "text": [
      "**********"
     ]
    }
   ],
   "source": [
    "for _ in range(10):\n",
    "    print(\"*\",end=\"\")"
   ]
  },
  {
   "cell_type": "code",
   "execution_count": 43,
   "metadata": {},
   "outputs": [
    {
     "name": "stdout",
     "output_type": "stream",
     "text": [
      "5+....8=26\n"
     ]
    }
   ],
   "source": [
    "start = int(input(\"請輸入起始的連續加法數字?:\"))\n",
    "end = int(input(\"請輸入連續加法到哪位數字?:\"))\n",
    "result = 0\n",
    "i = start\n",
    "while start <= end:\n",
    "    result += start\n",
    "    start += 1\n",
    "print(i,\"+....\",end,\"=\",result,sep=\"\")"
   ]
  },
  {
   "cell_type": "code",
   "execution_count": 44,
   "metadata": {},
   "outputs": [
    {
     "name": "stdout",
     "output_type": "stream",
     "text": [
      "第5項:32\n"
     ]
    }
   ],
   "source": [
    "a = int(input(\"輸入第一項: \"))\n",
    "b = int(input(\"輸入第二項: \"))\n",
    "c = int(input(\"輸入第三項: \"))\n",
    "n = int(input(\"請問要算計幾項: \"))\n",
    "if (b-a) == (c-b):\n",
    "    #等差\n",
    "    d = b - a\n",
    "    r = a+(n-1)*d\n",
    "    print(f\"第{n}項:{r}\")\n",
    "elif (b/a) == (c/b):\n",
    "    #等比\n",
    "    d = int( b / a )\n",
    "    r = 1\n",
    "    for _ in range(n):\n",
    "        r *= d\n",
    "    print(f\"第{n}項:{r}\")\n",
    "else:\n",
    "    print(\"不屬於等差或等比\")"
   ]
  }
 ],
 "metadata": {
  "kernelspec": {
   "display_name": "Python 3.10.3 64-bit",
   "language": "python",
   "name": "python3"
  },
  "language_info": {
   "codemirror_mode": {
    "name": "ipython",
    "version": 3
   },
   "file_extension": ".py",
   "mimetype": "text/x-python",
   "name": "python",
   "nbconvert_exporter": "python",
   "pygments_lexer": "ipython3",
   "version": "3.10.3"
  },
  "orig_nbformat": 4,
  "vscode": {
   "interpreter": {
    "hash": "690820b312a717e3b96f1b813045faef3c3b80a6bb06ae24441e91c9536eba61"
   }
  }
 },
 "nbformat": 4,
 "nbformat_minor": 2
}
