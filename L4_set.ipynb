{
 "cells": [
  {
   "cell_type": "code",
   "execution_count": 6,
   "id": "6051d6ee",
   "metadata": {},
   "outputs": [
    {
     "data": {
      "text/plain": [
       "{0, 2, 4, 6, 8}"
      ]
     },
     "execution_count": 6,
     "metadata": {},
     "output_type": "execute_result"
    }
   ],
   "source": [
    "#set不可以有重複的值\n",
    "empty_set = set()\n",
    "even_numbers = {0, 2, 4, 6, 8}\n",
    "even_numbers"
   ]
  },
  {
   "cell_type": "code",
   "execution_count": 9,
   "id": "6253ef74",
   "metadata": {},
   "outputs": [
    {
     "data": {
      "text/plain": [
       "{1, 2, 3, 4, 5, 6, 8, 800, 900}"
      ]
     },
     "execution_count": 9,
     "metadata": {},
     "output_type": "execute_result"
    }
   ],
   "source": [
    "odd_num = {1,2,3,5,4,6,8}\n",
    "odd_num.add(800)\n",
    "odd_num.add(900)\n",
    "odd_num"
   ]
  },
  {
   "cell_type": "code",
   "execution_count": 3,
   "id": "3f0450b1",
   "metadata": {},
   "outputs": [
    {
     "name": "stdout",
     "output_type": "stream",
     "text": [
      "本期大樂透電腦選號號碼如下: \n",
      "2  7  17  19  22  38  \n",
      "特別號是23\n"
     ]
    }
   ],
   "source": [
    "import random\n",
    "\n",
    "lot = set()\n",
    "while len(lot) != 7:\n",
    "    lot.add(random.randint(1,49))\n",
    "    \n",
    "print(\"本期大樂透電腦選號號碼如下: \")\n",
    "lotList = list(lot)\n",
    "specialNum = lotList.pop()\n",
    "for item in sorted(lotList):\n",
    "    print(item,end=\"  \")\n",
    "print()\n",
    "print(f\"特別號是{specialNum}\")\n",
    "\n",
    "#作業: 要求幾組就出現幾組"
   ]
  },
  {
   "cell_type": "code",
   "execution_count": 8,
   "id": "dba905f7",
   "metadata": {},
   "outputs": [
    {
     "name": "stdout",
     "output_type": "stream",
     "text": [
      "輸入號碼數量: 9\n",
      "本期大樂透電腦選號號碼如下: \n",
      "1  4  7  10  13  34  35  43  \n",
      "特別號是46\n"
     ]
    }
   ],
   "source": [
    "import random\n",
    "\n",
    "times = int (input(\"輸入號碼數量: \"))\n",
    "lot = set()\n",
    "while len(lot) != times:\n",
    "    lot.add(random.randint(1,49))\n",
    "    \n",
    "print(\"本期大樂透電腦選號號碼如下: \")\n",
    "lotList = list(lot)\n",
    "specialNum = lotList.pop()\n",
    "for item in sorted(lotList):\n",
    "    print(item,end=\"  \")\n",
    "print()\n",
    "print(f\"特別號是{specialNum}\")\n"
   ]
  }
 ],
 "metadata": {
  "kernelspec": {
   "display_name": "Python 3 (ipykernel)",
   "language": "python",
   "name": "python3"
  },
  "language_info": {
   "codemirror_mode": {
    "name": "ipython",
    "version": 3
   },
   "file_extension": ".py",
   "mimetype": "text/x-python",
   "name": "python",
   "nbconvert_exporter": "python",
   "pygments_lexer": "ipython3",
   "version": "3.8.7"
  }
 },
 "nbformat": 4,
 "nbformat_minor": 5
}
