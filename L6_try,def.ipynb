{
 "cells": [
  {
   "cell_type": "code",
   "execution_count": 2,
   "id": "2ce39fe8",
   "metadata": {},
   "outputs": [
    {
     "ename": "IndexError",
     "evalue": "list index out of range",
     "output_type": "error",
     "traceback": [
      "\u001b[1;31m---------------------------------------------------------------------------\u001b[0m",
      "\u001b[1;31mIndexError\u001b[0m                                Traceback (most recent call last)",
      "\u001b[1;32m~\\AppData\\Local\\Temp/ipykernel_6732/1964098768.py\u001b[0m in \u001b[0;36m<module>\u001b[1;34m\u001b[0m\n\u001b[0;32m      2\u001b[0m \u001b[0mposition\u001b[0m \u001b[1;33m=\u001b[0m \u001b[1;36m3\u001b[0m\u001b[1;33m\u001b[0m\u001b[1;33m\u001b[0m\u001b[0m\n\u001b[0;32m      3\u001b[0m \u001b[1;33m\u001b[0m\u001b[0m\n\u001b[1;32m----> 4\u001b[1;33m \u001b[0mshort_list\u001b[0m\u001b[1;33m[\u001b[0m\u001b[0mposition\u001b[0m\u001b[1;33m]\u001b[0m\u001b[1;33m\u001b[0m\u001b[1;33m\u001b[0m\u001b[0m\n\u001b[0m",
      "\u001b[1;31mIndexError\u001b[0m: list index out of range"
     ]
    }
   ],
   "source": [
    "short_list = [1,2,3]\n",
    "position = 3\n",
    "\n",
    "short_list[position]"
   ]
  },
  {
   "cell_type": "code",
   "execution_count": 7,
   "id": "961954b3",
   "metadata": {},
   "outputs": [
    {
     "name": "stdout",
     "output_type": "stream",
     "text": [
      "Error\n",
      "app end\n"
     ]
    }
   ],
   "source": [
    "short_list = [1,2,3]\n",
    "position = 3\n",
    "\n",
    "try:\n",
    "    short_list[position]\n",
    "except:\n",
    "    print(\"Error\")\n",
    "print(\"app end\")"
   ]
  },
  {
   "cell_type": "code",
   "execution_count": 15,
   "id": "d7f645af",
   "metadata": {},
   "outputs": [
    {
     "name": "stdout",
     "output_type": "stream",
     "text": [
      "list index out of range\n",
      "app end\n"
     ]
    }
   ],
   "source": [
    "short_list = [1,2,3]\n",
    "position = 3\n",
    "\n",
    "try:\n",
    "    short_list[10]\n",
    "except IndexError as error:\n",
    "    print(error)\n",
    "except:\n",
    "    print(\"ERROR\")\n",
    "print(\"app end\")"
   ]
  },
  {
   "cell_type": "code",
   "execution_count": 22,
   "id": "f364f200",
   "metadata": {},
   "outputs": [
    {
     "ename": "KeyboardInterrupt",
     "evalue": "Interrupted by user",
     "output_type": "error",
     "traceback": [
      "\u001b[1;31m---------------------------------------------------------------------------\u001b[0m",
      "\u001b[1;31mKeyboardInterrupt\u001b[0m                         Traceback (most recent call last)",
      "\u001b[1;32m~\\AppData\\Local\\Temp/ipykernel_6732/2965577958.py\u001b[0m in \u001b[0;36m<module>\u001b[1;34m\u001b[0m\n\u001b[0;32m      1\u001b[0m \u001b[0mshort_list\u001b[0m \u001b[1;33m=\u001b[0m \u001b[1;33m[\u001b[0m\u001b[1;36m10\u001b[0m\u001b[1;33m,\u001b[0m \u001b[1;36m20\u001b[0m\u001b[1;33m,\u001b[0m \u001b[1;36m30\u001b[0m\u001b[1;33m]\u001b[0m\u001b[1;33m\u001b[0m\u001b[1;33m\u001b[0m\u001b[0m\n\u001b[0;32m      2\u001b[0m \u001b[1;32mwhile\u001b[0m \u001b[1;32mTrue\u001b[0m\u001b[1;33m:\u001b[0m\u001b[1;33m\u001b[0m\u001b[1;33m\u001b[0m\u001b[0m\n\u001b[1;32m----> 3\u001b[1;33m     \u001b[0mvaule\u001b[0m \u001b[1;33m=\u001b[0m \u001b[0minput\u001b[0m\u001b[1;33m(\u001b[0m\u001b[1;34m\"請輸入索引值[按q離開]\"\u001b[0m\u001b[1;33m)\u001b[0m\u001b[1;33m\u001b[0m\u001b[1;33m\u001b[0m\u001b[0m\n\u001b[0m\u001b[0;32m      4\u001b[0m     \u001b[1;32mif\u001b[0m \u001b[0mvaule\u001b[0m \u001b[1;33m==\u001b[0m \u001b[1;34m'q'\u001b[0m\u001b[1;33m:\u001b[0m\u001b[1;33m\u001b[0m\u001b[1;33m\u001b[0m\u001b[0m\n\u001b[0;32m      5\u001b[0m         \u001b[1;32mbreak\u001b[0m\u001b[1;33m\u001b[0m\u001b[1;33m\u001b[0m\u001b[0m\n",
      "\u001b[1;32mc:\\users\\tony2\\documents\\pythonproject0725\\venv\\lib\\site-packages\\ipykernel\\kernelbase.py\u001b[0m in \u001b[0;36mraw_input\u001b[1;34m(self, prompt)\u001b[0m\n\u001b[0;32m    979\u001b[0m                 \u001b[1;34m\"raw_input was called, but this frontend does not support input requests.\"\u001b[0m\u001b[1;33m\u001b[0m\u001b[1;33m\u001b[0m\u001b[0m\n\u001b[0;32m    980\u001b[0m             )\n\u001b[1;32m--> 981\u001b[1;33m         return self._input_request(\n\u001b[0m\u001b[0;32m    982\u001b[0m             \u001b[0mstr\u001b[0m\u001b[1;33m(\u001b[0m\u001b[0mprompt\u001b[0m\u001b[1;33m)\u001b[0m\u001b[1;33m,\u001b[0m\u001b[1;33m\u001b[0m\u001b[1;33m\u001b[0m\u001b[0m\n\u001b[0;32m    983\u001b[0m             \u001b[0mself\u001b[0m\u001b[1;33m.\u001b[0m\u001b[0m_parent_ident\u001b[0m\u001b[1;33m[\u001b[0m\u001b[1;34m\"shell\"\u001b[0m\u001b[1;33m]\u001b[0m\u001b[1;33m,\u001b[0m\u001b[1;33m\u001b[0m\u001b[1;33m\u001b[0m\u001b[0m\n",
      "\u001b[1;32mc:\\users\\tony2\\documents\\pythonproject0725\\venv\\lib\\site-packages\\ipykernel\\kernelbase.py\u001b[0m in \u001b[0;36m_input_request\u001b[1;34m(self, prompt, ident, parent, password)\u001b[0m\n\u001b[0;32m   1024\u001b[0m             \u001b[1;32mexcept\u001b[0m \u001b[0mKeyboardInterrupt\u001b[0m\u001b[1;33m:\u001b[0m\u001b[1;33m\u001b[0m\u001b[1;33m\u001b[0m\u001b[0m\n\u001b[0;32m   1025\u001b[0m                 \u001b[1;31m# re-raise KeyboardInterrupt, to truncate traceback\u001b[0m\u001b[1;33m\u001b[0m\u001b[1;33m\u001b[0m\u001b[1;33m\u001b[0m\u001b[0m\n\u001b[1;32m-> 1026\u001b[1;33m                 \u001b[1;32mraise\u001b[0m \u001b[0mKeyboardInterrupt\u001b[0m\u001b[1;33m(\u001b[0m\u001b[1;34m\"Interrupted by user\"\u001b[0m\u001b[1;33m)\u001b[0m \u001b[1;32mfrom\u001b[0m \u001b[1;32mNone\u001b[0m\u001b[1;33m\u001b[0m\u001b[1;33m\u001b[0m\u001b[0m\n\u001b[0m\u001b[0;32m   1027\u001b[0m             \u001b[1;32mexcept\u001b[0m \u001b[0mException\u001b[0m\u001b[1;33m:\u001b[0m\u001b[1;33m\u001b[0m\u001b[1;33m\u001b[0m\u001b[0m\n\u001b[0;32m   1028\u001b[0m                 \u001b[0mself\u001b[0m\u001b[1;33m.\u001b[0m\u001b[0mlog\u001b[0m\u001b[1;33m.\u001b[0m\u001b[0mwarning\u001b[0m\u001b[1;33m(\u001b[0m\u001b[1;34m\"Invalid Message:\"\u001b[0m\u001b[1;33m,\u001b[0m \u001b[0mexc_info\u001b[0m\u001b[1;33m=\u001b[0m\u001b[1;32mTrue\u001b[0m\u001b[1;33m)\u001b[0m\u001b[1;33m\u001b[0m\u001b[1;33m\u001b[0m\u001b[0m\n",
      "\u001b[1;31mKeyboardInterrupt\u001b[0m: Interrupted by user"
     ]
    }
   ],
   "source": [
    "short_list = [10, 20, 30]\n",
    "while True:\n",
    "    vaule = input(\"請輸入索引值[按q離開]\")\n",
    "    if vaule == 'q':\n",
    "        break\n",
    "    try:\n",
    "        position = int(vaule)\n",
    "        short_list[position]\n",
    "    except IndexError as error:\n",
    "        print(f\"發生錯誤! 錯誤內容: {error}\")\n",
    "    except Exception as error:\n",
    "        print(f\"發生錯誤! 錯誤內容: {error}\")\n",
    "print(\"程式結束\")"
   ]
  },
  {
   "cell_type": "code",
   "execution_count": 26,
   "id": "27b4df7e",
   "metadata": {},
   "outputs": [
    {
     "name": "stdout",
     "output_type": "stream",
     "text": [
      "發生錯誤\n"
     ]
    }
   ],
   "source": [
    "#建立自己的Exception\n",
    "#自己錯誤自己搞\n",
    "\n",
    "def make_exception():\n",
    "    raise Exception(\"發生錯誤\")\n",
    "try:\n",
    "    make_exception()\n",
    "except Exception as error:\n",
    "    print(error)"
   ]
  },
  {
   "cell_type": "code",
   "execution_count": 31,
   "id": "4f62c398",
   "metadata": {},
   "outputs": [
    {
     "data": {
      "text/plain": [
       "{'主餐': '牛排', '飲料': '果汁', '甜點': '蛋糕'}"
      ]
     },
     "execution_count": 31,
     "metadata": {},
     "output_type": "execute_result"
    }
   ],
   "source": [
    "def order(main,drink,dessert):\n",
    "    return {\"主餐\":main, \"飲料\":drink, \"甜點\":dessert}\n",
    "\n",
    "order(\"牛排\", \"果汁\", \"蛋糕\")"
   ]
  },
  {
   "cell_type": "code",
   "execution_count": 33,
   "id": "29f45620",
   "metadata": {},
   "outputs": [
    {
     "data": {
      "text/plain": [
       "{'主餐': '隨便拉', '飲料': '不知道', '甜點': '都可以'}"
      ]
     },
     "execution_count": 33,
     "metadata": {},
     "output_type": "execute_result"
    }
   ],
   "source": [
    "#引數位置呼叫\n",
    "order(\"隨便拉\",\"不知道\",\"都可以\")"
   ]
  },
  {
   "cell_type": "code",
   "execution_count": 38,
   "id": "3ece6a20",
   "metadata": {},
   "outputs": [
    {
     "data": {
      "text/plain": [
       "{'主餐': '不吃', '飲料': '珍珠奶茶', '甜點': '高級法式甜點'}"
      ]
     },
     "execution_count": 38,
     "metadata": {},
     "output_type": "execute_result"
    }
   ],
   "source": [
    "#引數名稱呼叫\n",
    "order(drink=\"珍珠奶茶\",main=\"不吃\",dessert=\"高級法式甜點\")"
   ]
  },
  {
   "cell_type": "code",
   "execution_count": 47,
   "id": "6d088436",
   "metadata": {},
   "outputs": [
    {
     "data": {
      "text/plain": [
       "{'主餐': '雞排', '飲料': '紅茶', '甜點': '蛋糕'}"
      ]
     },
     "execution_count": 47,
     "metadata": {},
     "output_type": "execute_result"
    }
   ],
   "source": [
    "#引數位置和引數名稱混合呼叫\n",
    "#前面一定先用引數位置,後面使用引數名稱\n",
    "#使用引數名稱後,就不可以再使用引數位置\n",
    "order('雞排',dessert='蛋糕',drink='紅茶')"
   ]
  },
  {
   "cell_type": "code",
   "execution_count": 64,
   "id": "b5bbd887",
   "metadata": {},
   "outputs": [
    {
     "name": "stdout",
     "output_type": "stream",
     "text": [
      "{'主餐': '雞排', '飲料': '紅茶', '甜點': '奶昔'}\n",
      "{'主餐': '豬排', '飲料': '綠茶', '甜點': '奶昔'}\n"
     ]
    }
   ],
   "source": [
    "#參數預設值\n",
    "def order(main=\"雞排\", drink=\"紅茶\", dessert=\"奶昔\"):\n",
    "    return {\"主餐\":main, \"飲料\":drink, \"甜點\":dessert}\n",
    "\n",
    "print(order())\n",
    "print(order(\"豬排\",\"綠茶\"))"
   ]
  },
  {
   "cell_type": "code",
   "execution_count": 66,
   "id": "86ebd04e",
   "metadata": {},
   "outputs": [
    {
     "name": "stdout",
     "output_type": "stream",
     "text": [
      "1\n",
      "2\n",
      "3\n",
      "W\n",
      "T\n",
      "F\n"
     ]
    }
   ],
   "source": [
    "def print_arg(*args):\n",
    "    for arg in args:\n",
    "        print(arg)\n",
    "        \n",
    "print_arg(\"1\",\"2\",\"3\",\"W\",\"T\",\"F\")"
   ]
  },
  {
   "cell_type": "code",
   "execution_count": 72,
   "id": "1aeac16c",
   "metadata": {},
   "outputs": [
    {
     "name": "stdout",
     "output_type": "stream",
     "text": [
      "key=one,value=1\n",
      "key=two,value=2.0\n",
      "key=three,value=3\n",
      "key=four,value=4\n"
     ]
    }
   ],
   "source": [
    "def print_kwargs1(**kwargs):\n",
    "    for key,value in kwargs.items():\n",
    "        print(f\"key={key},value={value}\")\n",
    "\n",
    "print_kwargs1(one='1',two=2.0,three=3,four=4)"
   ]
  },
  {
   "cell_type": "code",
   "execution_count": 81,
   "id": "6ac35157",
   "metadata": {},
   "outputs": [
    {
     "name": "stdout",
     "output_type": "stream",
     "text": [
      "引數位置:\n",
      "1\n",
      "2\n",
      "3\n",
      "one\n",
      "two\n",
      "three\n",
      "引數名稱:\n"
     ]
    }
   ],
   "source": [
    "def print_all(*args,**kwargs):\n",
    "    print(\"引數位置:\")\n",
    "    for arg in args:\n",
    "        print(arg)\n",
    "    \n",
    "    print(\"引數名稱:\")\n",
    "    for key,vaule in kwargs.items():\n",
    "        print(f\"key={key},value={value}\")\n",
    "        \n",
    "print_all(1, 2, 3, 'one', 'two', 'three',)"
   ]
  },
  {
   "cell_type": "code",
   "execution_count": 84,
   "id": "00e5275d",
   "metadata": {},
   "outputs": [
    {
     "name": "stdout",
     "output_type": "stream",
     "text": [
      "60\n"
     ]
    }
   ],
   "source": [
    "#傳統函數+\n",
    "\n",
    "def f (x, y, z):\n",
    "    return x+y+z\n",
    "\n",
    "print(f(10,20,30))"
   ]
  },
  {
   "cell_type": "code",
   "execution_count": 86,
   "id": "98059b7b",
   "metadata": {},
   "outputs": [
    {
     "name": "stdout",
     "output_type": "stream",
     "text": [
      "7\n"
     ]
    }
   ],
   "source": [
    "noNameFunction = lambda x,y,z:x+y+z\n",
    "print(noNameFunction(1,2,4))"
   ]
  },
  {
   "cell_type": "code",
   "execution_count": 93,
   "id": "b84261cd",
   "metadata": {},
   "outputs": [
    {
     "data": {
      "text/plain": [
       "[1, 4, 9, 16, 25, 36]"
      ]
     },
     "execution_count": 93,
     "metadata": {},
     "output_type": "execute_result"
    }
   ],
   "source": [
    "#傳統函數\n",
    "\n",
    "def square(x):\n",
    "    return x ** 2\n",
    "\n",
    "newlist = list(map(square,[1,2,3,4,5,6]))\n",
    "newlist"
   ]
  },
  {
   "cell_type": "code",
   "execution_count": 92,
   "id": "2c2bc64d",
   "metadata": {},
   "outputs": [
    {
     "data": {
      "text/plain": [
       "[1, 4, 9, 16, 25, 36]"
      ]
     },
     "execution_count": 92,
     "metadata": {},
     "output_type": "execute_result"
    }
   ],
   "source": [
    "#匿名函數\n",
    "\n",
    "newlist = list(map(lambda x: x ** 2,[1,2,3,4,5,6]))\n",
    "newlist"
   ]
  }
 ],
 "metadata": {
  "kernelspec": {
   "display_name": "Python 3 (ipykernel)",
   "language": "python",
   "name": "python3"
  },
  "language_info": {
   "codemirror_mode": {
    "name": "ipython",
    "version": 3
   },
   "file_extension": ".py",
   "mimetype": "text/x-python",
   "name": "python",
   "nbconvert_exporter": "python",
   "pygments_lexer": "ipython3",
   "version": "3.8.7"
  },
  "widgets": {
   "application/vnd.jupyter.widget-state+json": {
    "state": {},
    "version_major": 2,
    "version_minor": 0
   }
  }
 },
 "nbformat": 4,
 "nbformat_minor": 5
}
