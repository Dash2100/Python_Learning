{
 "cells": [
  {
   "cell_type": "code",
   "execution_count": 4,
   "id": "c5dbc873",
   "metadata": {},
   "outputs": [
    {
     "data": {
      "text/plain": [
       "[1, 2, 3, 4, 5, 6]"
      ]
     },
     "execution_count": 4,
     "metadata": {},
     "output_type": "execute_result"
    }
   ],
   "source": [
    "number_list = []\n",
    "number_list.append(1)\n",
    "number_list.append(2)\n",
    "number_list.append(3)\n",
    "number_list.append(4)\n",
    "number_list.append(5)\n",
    "number_list.append(6)\n",
    "number_list"
   ]
  },
  {
   "cell_type": "code",
   "execution_count": 6,
   "id": "03058f4b",
   "metadata": {},
   "outputs": [
    {
     "data": {
      "text/plain": [
       "[1, 2, 3, 4, 5, 6]"
      ]
     },
     "execution_count": 6,
     "metadata": {},
     "output_type": "execute_result"
    }
   ],
   "source": [
    "number_list1 = [vaule for vaule in range(1,7)]\n",
    "number_list1"
   ]
  },
  {
   "cell_type": "code",
   "execution_count": 8,
   "id": "573e6158",
   "metadata": {},
   "outputs": [
    {
     "data": {
      "text/plain": [
       "[1, 2, 3, 4, 5, 6]"
      ]
     },
     "execution_count": 8,
     "metadata": {},
     "output_type": "execute_result"
    }
   ],
   "source": [
    "number_list2 = [num for num in range(1,7)]\n",
    "number_list2"
   ]
  },
  {
   "cell_type": "code",
   "execution_count": 13,
   "id": "c5c51e0b",
   "metadata": {},
   "outputs": [
    {
     "data": {
      "text/plain": [
       "[5, 10, 15, 20, 25, 30, 35, 40, 45]"
      ]
     },
     "execution_count": 13,
     "metadata": {},
     "output_type": "execute_result"
    }
   ],
   "source": [
    "number_list1 = [vaule*5 for vaule in range(1,10)]\n",
    "number_list1"
   ]
  },
  {
   "cell_type": "code",
   "execution_count": 18,
   "id": "b7373806",
   "metadata": {},
   "outputs": [
    {
     "data": {
      "text/plain": [
       "[1,\n",
       " 3,\n",
       " 5,\n",
       " 7,\n",
       " 9,\n",
       " 11,\n",
       " 13,\n",
       " 15,\n",
       " 17,\n",
       " 19,\n",
       " 21,\n",
       " 23,\n",
       " 25,\n",
       " 27,\n",
       " 29,\n",
       " 31,\n",
       " 33,\n",
       " 35,\n",
       " 37,\n",
       " 39,\n",
       " 41,\n",
       " 43,\n",
       " 45,\n",
       " 47,\n",
       " 49]"
      ]
     },
     "execution_count": 18,
     "metadata": {},
     "output_type": "execute_result"
    }
   ],
   "source": [
    "number_list1 = [vaule for vaule in range(1,50) if vaule % 2 == 1]\n",
    "number_list1"
   ]
  },
  {
   "cell_type": "code",
   "execution_count": 19,
   "id": "b7b1cb6f",
   "metadata": {},
   "outputs": [
    {
     "name": "stdout",
     "output_type": "stream",
     "text": [
      "第1個學生為[45, 42, 29, 3, 100]\n",
      "第2個學生為[51, 22, 87, 72, 4]\n",
      "第3個學生為[20, 56, 31, 45, 69]\n",
      "第4個學生為[34, 94, 72, 47, 71]\n",
      "第5個學生為[73, 79, 49, 36, 17]\n",
      "第6個學生為[69, 67, 80, 10, 31]\n",
      "第7個學生為[46, 96, 19, 23, 53]\n",
      "第8個學生為[63, 99, 63, 16, 41]\n",
      "第9個學生為[19, 82, 84, 40, 18]\n",
      "第10個學生為[43, 18, 39, 25, 77]\n",
      "第11個學生為[37, 13, 77, 30, 10]\n",
      "第12個學生為[85, 7, 66, 98, 25]\n",
      "第13個學生為[10, 74, 64, 29, 34]\n",
      "第14個學生為[99, 1, 67, 44, 64]\n",
      "第15個學生為[4, 24, 65, 38, 63]\n",
      "第16個學生為[14, 93, 94, 13, 65]\n",
      "第17個學生為[52, 48, 61, 58, 74]\n",
      "第18個學生為[1, 92, 84, 99, 15]\n",
      "第19個學生為[37, 21, 50, 5, 7]\n",
      "第20個學生為[55, 38, 94, 49, 30]\n",
      "第21個學生為[76, 42, 75, 70, 91]\n",
      "第22個學生為[15, 42, 76, 10, 3]\n",
      "第23個學生為[93, 90, 50, 51, 35]\n",
      "第24個學生為[13, 86, 16, 91, 35]\n",
      "第25個學生為[33, 23, 79, 98, 76]\n",
      "第26個學生為[28, 21, 41, 97, 76]\n",
      "第27個學生為[75, 82, 29, 12, 6]\n",
      "第28個學生為[100, 82, 17, 85, 38]\n",
      "第29個學生為[88, 1, 63, 24, 89]\n",
      "第30個學生為[88, 97, 65, 97, 79]\n",
      "第31個學生為[51, 11, 41, 4, 41]\n",
      "第32個學生為[68, 87, 91, 5, 44]\n",
      "第33個學生為[34, 51, 93, 46, 55]\n",
      "第34個學生為[85, 2, 82, 77, 36]\n",
      "第35個學生為[16, 43, 80, 77, 48]\n",
      "第36個學生為[27, 9, 49, 52, 90]\n",
      "第37個學生為[62, 1, 94, 48, 7]\n",
      "第38個學生為[67, 45, 1, 50, 77]\n",
      "第39個學生為[85, 95, 41, 5, 73]\n",
      "第40個學生為[49, 35, 32, 11, 92]\n",
      "第41個學生為[12, 4, 79, 57, 66]\n",
      "第42個學生為[53, 99, 94, 25, 55]\n",
      "第43個學生為[6, 33, 28, 55, 13]\n",
      "第44個學生為[28, 91, 51, 8, 14]\n",
      "第45個學生為[55, 59, 99, 45, 23]\n",
      "第46個學生為[15, 31, 73, 8, 31]\n",
      "第47個學生為[14, 14, 93, 100, 94]\n",
      "第48個學生為[16, 55, 57, 61, 26]\n",
      "第49個學生為[12, 97, 46, 2, 14]\n",
      "第50個學生為[43, 38, 98, 17, 90]\n"
     ]
    }
   ],
   "source": [
    "import random\n",
    "students = []\n",
    "\n",
    "for _ in range(50):\n",
    "    score = []\n",
    "    for _ in range(5):\n",
    "        score.append(random.randint(1,100))\n",
    "    students.append(score)\n",
    "        \n",
    "for index,student in enumerate(students):\n",
    "    print(f\"第{index+1}個學生為{student}\")"
   ]
  },
  {
   "cell_type": "code",
   "execution_count": 22,
   "id": "178c2012",
   "metadata": {},
   "outputs": [
    {
     "name": "stdout",
     "output_type": "stream",
     "text": [
      "第1個學生為[84, 92, 78, 82, 96]\n",
      "第2個學生為[76, 56, 52, 53, 98]\n",
      "第3個學生為[80, 62, 82, 83, 65]\n",
      "第4個學生為[83, 80, 83, 82, 83]\n",
      "第5個學生為[92, 83, 85, 66, 65]\n",
      "第6個學生為[96, 57, 93, 89, 69]\n",
      "第7個學生為[85, 55, 93, 67, 61]\n",
      "第8個學生為[81, 96, 98, 55, 64]\n",
      "第9個學生為[97, 75, 50, 65, 89]\n",
      "第10個學生為[86, 93, 77, 50, 68]\n",
      "第11個學生為[63, 63, 96, 94, 69]\n",
      "第12個學生為[88, 72, 91, 77, 64]\n",
      "第13個學生為[75, 75, 90, 88, 65]\n",
      "第14個學生為[98, 87, 55, 69, 69]\n",
      "第15個學生為[53, 74, 72, 54, 92]\n",
      "第16個學生為[85, 61, 76, 68, 60]\n",
      "第17個學生為[56, 60, 50, 72, 72]\n",
      "第18個學生為[55, 95, 98, 52, 90]\n",
      "第19個學生為[67, 68, 57, 50, 86]\n",
      "第20個學生為[51, 98, 81, 98, 61]\n",
      "第21個學生為[83, 72, 70, 96, 91]\n",
      "第22個學生為[69, 74, 90, 56, 67]\n",
      "第23個學生為[68, 92, 69, 81, 61]\n",
      "第24個學生為[56, 64, 78, 51, 73]\n",
      "第25個學生為[76, 95, 72, 73, 74]\n",
      "第26個學生為[92, 75, 61, 90, 58]\n",
      "第27個學生為[96, 52, 96, 98, 50]\n",
      "第28個學生為[75, 85, 92, 81, 57]\n",
      "第29個學生為[53, 80, 84, 56, 63]\n",
      "第30個學生為[96, 87, 86, 62, 100]\n",
      "第31個學生為[87, 54, 58, 63, 74]\n",
      "第32個學生為[98, 72, 63, 75, 85]\n",
      "第33個學生為[68, 60, 85, 67, 93]\n",
      "第34個學生為[92, 59, 97, 55, 53]\n",
      "第35個學生為[100, 89, 56, 96, 93]\n",
      "第36個學生為[51, 81, 96, 85, 67]\n",
      "第37個學生為[51, 58, 89, 94, 74]\n",
      "第38個學生為[69, 52, 87, 82, 54]\n",
      "第39個學生為[75, 53, 51, 77, 70]\n",
      "第40個學生為[50, 57, 52, 73, 59]\n",
      "第41個學生為[90, 81, 81, 74, 81]\n",
      "第42個學生為[87, 56, 50, 84, 79]\n",
      "第43個學生為[54, 74, 55, 59, 68]\n",
      "第44個學生為[65, 81, 86, 91, 97]\n",
      "第45個學生為[54, 89, 59, 100, 85]\n",
      "第46個學生為[55, 82, 77, 87, 78]\n",
      "第47個學生為[69, 70, 73, 64, 73]\n",
      "第48個學生為[63, 76, 83, 51, 52]\n",
      "第49個學生為[73, 60, 69, 63, 84]\n",
      "第50個學生為[87, 56, 83, 51, 71]\n"
     ]
    }
   ],
   "source": [
    "import random\n",
    "\n",
    "students = [[random.randint(50,100) for _ in range(5)] for _ in range(50)]\n",
    "        \n",
    "for index,student in enumerate(students):\n",
    "    print(f\"第{index+1}個學生為{student}\")"
   ]
  },
  {
   "cell_type": "code",
   "execution_count": 27,
   "id": "1e7334b7",
   "metadata": {},
   "outputs": [
    {
     "data": {
      "text/plain": [
       "{'l': 1, 'e': 2, 't': 2, 'r': 1, 's': 1}"
      ]
     },
     "execution_count": 27,
     "metadata": {},
     "output_type": "execute_result"
    }
   ],
   "source": [
    "word = \"letters\"\n",
    "letter_counts = {letter:word.count(letter) for letter in word}\n",
    "letter_counts"
   ]
  },
  {
   "cell_type": "code",
   "execution_count": 29,
   "id": "f3f0f537",
   "metadata": {},
   "outputs": [
    {
     "data": {
      "text/plain": [
       "'__main__'"
      ]
     },
     "execution_count": 29,
     "metadata": {},
     "output_type": "execute_result"
    }
   ],
   "source": [
    "__name__"
   ]
  },
  {
   "cell_type": "code",
   "execution_count": 31,
   "id": "7a1bcc40",
   "metadata": {},
   "outputs": [
    {
     "data": {
      "text/plain": [
       "'letters'"
      ]
     },
     "execution_count": 31,
     "metadata": {},
     "output_type": "execute_result"
    }
   ],
   "source": [
    "word"
   ]
  },
  {
   "cell_type": "code",
   "execution_count": 33,
   "id": "3a3efd3e",
   "metadata": {},
   "outputs": [
    {
     "name": "stdout",
     "output_type": "stream",
     "text": [
      "20\n",
      "10\n"
     ]
    }
   ],
   "source": [
    "a = 10 \n",
    "def test():\n",
    "    a = 20\n",
    "    print(a)\n",
    "test()\n",
    "print(a)"
   ]
  }
 ],
 "metadata": {
  "kernelspec": {
   "display_name": "Python 3 (ipykernel)",
   "language": "python",
   "name": "python3"
  },
  "language_info": {
   "codemirror_mode": {
    "name": "ipython",
    "version": 3
   },
   "file_extension": ".py",
   "mimetype": "text/x-python",
   "name": "python",
   "nbconvert_exporter": "python",
   "pygments_lexer": "ipython3",
   "version": "3.8.7"
  }
 },
 "nbformat": 4,
 "nbformat_minor": 5
}
