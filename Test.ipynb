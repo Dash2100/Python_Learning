{
 "cells": [
  {
   "cell_type": "code",
   "execution_count": 1,
   "id": "53810a8d",
   "metadata": {},
   "outputs": [
    {
     "data": {
      "text/plain": [
       "['台北', '台中', '台南', '花蓮', '台東']"
      ]
     },
     "execution_count": 1,
     "metadata": {},
     "output_type": "execute_result"
    }
   ],
   "source": [
    "cities = [\"台北\",\"台中\",\"台南\"]\n",
    "others = [\"花蓮\",\"台東\"]\n",
    "cities.extend(others)\n",
    "cities"
   ]
  },
  {
   "cell_type": "code",
   "execution_count": 2,
   "id": "9b2cc504",
   "metadata": {},
   "outputs": [
    {
     "name": "stdout",
     "output_type": "stream",
     "text": [
      "[3, 4, 5, 5, 6, 8, 9]\n",
      "[9, 8, 6, 5, 5, 4, 3]\n"
     ]
    }
   ],
   "source": [
    "nums = [8,5,4,9,6,3,5]\n",
    "nums.sort()\n",
    "print(nums)\n",
    "\n",
    "nums = [8,5,4,9,6,3,5]\n",
    "nums.sort(reverse = True)\n",
    "print(nums)"
   ]
  },
  {
   "cell_type": "code",
   "execution_count": 28,
   "id": "28973477",
   "metadata": {},
   "outputs": [
    {
     "name": "stdout",
     "output_type": "stream",
     "text": [
      "帳號: 111\n",
      "密碼: ;;;\n",
      "帳號: 111 密碼: ;;;\n",
      "ac: 111\n",
      "True\n"
     ]
    }
   ],
   "source": [
    "ac = input(\"帳號: \")\n",
    "pwd = input(\"密碼: \")\n",
    "accounts = {}\n",
    "\n",
    "accounts[ac] = pwd\n",
    "\n",
    "for ac,pw in accounts.items():\n",
    "    print(F\"帳號: {ac} 密碼: {pw}\")\n",
    "\n",
    "rqs = input(\"ac: \")\n",
    "if rqs in accounts.keys():\n",
    "    print(\"True\")\n",
    "else:\n",
    "    print(\"False\")"
   ]
  },
  {
   "cell_type": "code",
   "execution_count": 44,
   "id": "9c80a4d5",
   "metadata": {},
   "outputs": [
    {
     "name": "stdout",
     "output_type": "stream",
     "text": [
      "輸入1註冊,輸入2登入,輸入q離開: q\n",
      "程式結束!\n"
     ]
    }
   ],
   "source": [
    "accounts = {\"123\":\"321\"}\n",
    "while True:\n",
    "    ac = \"\"\n",
    "    pwd = \"\"\n",
    "    rqs = \"\"\n",
    "    act = input(\"輸入1註冊,輸入2登入,輸入q離開: \")\n",
    "\n",
    "    if act == \"1\":\n",
    "        print(\"帳號註冊\")\n",
    "        ac = input(\"帳號: \")\n",
    "        pwd = input(\"密碼: \")\n",
    "        pwd_confirm = input(\"再次輸入密碼:\")\n",
    "        if pwd != pwd_confirm:\n",
    "            print(\"x 密碼不符合! x\")\n",
    "            continue\n",
    "        else:\n",
    "            accounts[ac] = pwd\n",
    "            print(f\"✓ 帳號 {ac} 設定成功! ✓\")\n",
    "            continue\n",
    "\n",
    "    if act == \"2\":\n",
    "        print(\"登入帳號\")\n",
    "        ac = input(\"帳號: \")\n",
    "        if ac in accounts.keys():\n",
    "            print(f\"[ 歡迎使用者: {ac} 請輸入密碼!]\")\n",
    "            pwd = input(\"密碼: \")\n",
    "            if pwd == accounts[ac]:\n",
    "                print(\"✓ 登入成功! ✓\")\n",
    "                print(\"---------------------------\")\n",
    "                while True:\n",
    "                    print(f\"使用者: {ac} 請輸入操作代碼\")\n",
    "                    rqs = input(\"輸入1登出,輸入2更改密碼!\")\n",
    "                    if rqs == \"1\":\n",
    "                        print(\"✓ 登出成功 ✓\")\n",
    "                        print(\"---------------------------\")\n",
    "                        break\n",
    "                    if rqs == \"2\":\n",
    "                        original_pwd = input(\"請出入你的原始密碼: \")\n",
    "                        if original_pwd == pwd:\n",
    "                            new_pwd = input(\"請輸入新密碼: \")\n",
    "                            new_pwd_confirm = input(\"請再次輸入密碼: \")\n",
    "                            if new_pwd != new_pwd_confirm:\n",
    "                                print(\"密碼不符合!\")\n",
    "                            else:\n",
    "                                accounts[ac] = new_pwd\n",
    "                                print(\"密碼已成功修改 您已被登出!\")\n",
    "                                break\n",
    "                        else:\n",
    "                            print(\"密碼輸入錯誤!\")\n",
    "                            continue\n",
    "                continue\n",
    "            else:\n",
    "                print(\"x 密碼錯誤! x\")\n",
    "                continue\n",
    "        else:\n",
    "            print(f\"找不到帳號{ac}\")\n",
    "            continue\n",
    "    if act == \"q\":\n",
    "        break\n",
    "        \n",
    "print(\"程式結束!\")"
   ]
  },
  {
   "cell_type": "code",
   "execution_count": 47,
   "id": "e4d8278d",
   "metadata": {},
   "outputs": [
    {
     "name": "stdout",
     "output_type": "stream",
     "text": [
      "Do you have an existing account? y/n y\n",
      "Enter your username. tony\n",
      "Correct username.\n",
      "Enter your password. tt\n",
      "Correct username.\n",
      "Enter your password. tt\n",
      "Correct username.\n",
      "Enter your password. tt\n",
      "Correct username.\n",
      "Enter your password. tony123456\n",
      "Correct password. \n",
      "Correct username.\n",
      "Enter your password. \n",
      "Try again. \n",
      "Correct password. \n",
      "Correct username.\n",
      "Enter your password. \n",
      "Try again. \n",
      "Correct password. \n",
      "Correct username.\n"
     ]
    },
    {
     "ename": "KeyboardInterrupt",
     "evalue": "Interrupted by user",
     "output_type": "error",
     "traceback": [
      "\u001b[1;31m---------------------------------------------------------------------------\u001b[0m",
      "\u001b[1;31mKeyboardInterrupt\u001b[0m                         Traceback (most recent call last)",
      "\u001b[1;32m~\\AppData\\Local\\Temp/ipykernel_18056/2984172590.py\u001b[0m in \u001b[0;36m<module>\u001b[1;34m\u001b[0m\n\u001b[0;32m      4\u001b[0m    \u001b[1;32mwhile\u001b[0m \u001b[0maccnick\u001b[0m \u001b[1;32min\u001b[0m \u001b[0mopen\u001b[0m\u001b[1;33m(\u001b[0m\u001b[1;34m\"file.txt\"\u001b[0m\u001b[1;33m)\u001b[0m\u001b[1;33m.\u001b[0m\u001b[0mread\u001b[0m\u001b[1;33m(\u001b[0m\u001b[1;33m)\u001b[0m\u001b[1;33m:\u001b[0m\u001b[1;33m\u001b[0m\u001b[1;33m\u001b[0m\u001b[0m\n\u001b[0;32m      5\u001b[0m        \u001b[0mprint\u001b[0m\u001b[1;33m(\u001b[0m\u001b[1;34m\"Correct username.\"\u001b[0m\u001b[1;33m)\u001b[0m\u001b[1;33m\u001b[0m\u001b[1;33m\u001b[0m\u001b[0m\n\u001b[1;32m----> 6\u001b[1;33m        \u001b[0maccpass\u001b[0m\u001b[1;33m=\u001b[0m \u001b[0minput\u001b[0m\u001b[1;33m(\u001b[0m\u001b[1;34m\"Enter your password. \"\u001b[0m\u001b[1;33m)\u001b[0m\u001b[1;33m\u001b[0m\u001b[1;33m\u001b[0m\u001b[0m\n\u001b[0m\u001b[0;32m      7\u001b[0m        \u001b[1;32mif\u001b[0m \u001b[0mlen\u001b[0m\u001b[1;33m(\u001b[0m\u001b[0maccpass\u001b[0m\u001b[1;33m)\u001b[0m \u001b[1;33m==\u001b[0m \u001b[1;36m0\u001b[0m\u001b[1;33m:\u001b[0m\u001b[1;33m\u001b[0m\u001b[1;33m\u001b[0m\u001b[0m\n\u001b[0;32m      8\u001b[0m            \u001b[0maccpass\u001b[0m \u001b[1;33m=\u001b[0m \u001b[0minput\u001b[0m\u001b[1;33m(\u001b[0m\u001b[1;34m\"Try again. \"\u001b[0m\u001b[1;33m)\u001b[0m\u001b[1;33m\u001b[0m\u001b[1;33m\u001b[0m\u001b[0m\n",
      "\u001b[1;32mc:\\users\\tony2\\documents\\pythonproject0725\\venv\\lib\\site-packages\\ipykernel\\kernelbase.py\u001b[0m in \u001b[0;36mraw_input\u001b[1;34m(self, prompt)\u001b[0m\n\u001b[0;32m    979\u001b[0m                 \u001b[1;34m\"raw_input was called, but this frontend does not support input requests.\"\u001b[0m\u001b[1;33m\u001b[0m\u001b[1;33m\u001b[0m\u001b[0m\n\u001b[0;32m    980\u001b[0m             )\n\u001b[1;32m--> 981\u001b[1;33m         return self._input_request(\n\u001b[0m\u001b[0;32m    982\u001b[0m             \u001b[0mstr\u001b[0m\u001b[1;33m(\u001b[0m\u001b[0mprompt\u001b[0m\u001b[1;33m)\u001b[0m\u001b[1;33m,\u001b[0m\u001b[1;33m\u001b[0m\u001b[1;33m\u001b[0m\u001b[0m\n\u001b[0;32m    983\u001b[0m             \u001b[0mself\u001b[0m\u001b[1;33m.\u001b[0m\u001b[0m_parent_ident\u001b[0m\u001b[1;33m[\u001b[0m\u001b[1;34m\"shell\"\u001b[0m\u001b[1;33m]\u001b[0m\u001b[1;33m,\u001b[0m\u001b[1;33m\u001b[0m\u001b[1;33m\u001b[0m\u001b[0m\n",
      "\u001b[1;32mc:\\users\\tony2\\documents\\pythonproject0725\\venv\\lib\\site-packages\\ipykernel\\kernelbase.py\u001b[0m in \u001b[0;36m_input_request\u001b[1;34m(self, prompt, ident, parent, password)\u001b[0m\n\u001b[0;32m   1024\u001b[0m             \u001b[1;32mexcept\u001b[0m \u001b[0mKeyboardInterrupt\u001b[0m\u001b[1;33m:\u001b[0m\u001b[1;33m\u001b[0m\u001b[1;33m\u001b[0m\u001b[0m\n\u001b[0;32m   1025\u001b[0m                 \u001b[1;31m# re-raise KeyboardInterrupt, to truncate traceback\u001b[0m\u001b[1;33m\u001b[0m\u001b[1;33m\u001b[0m\u001b[1;33m\u001b[0m\u001b[0m\n\u001b[1;32m-> 1026\u001b[1;33m                 \u001b[1;32mraise\u001b[0m \u001b[0mKeyboardInterrupt\u001b[0m\u001b[1;33m(\u001b[0m\u001b[1;34m\"Interrupted by user\"\u001b[0m\u001b[1;33m)\u001b[0m \u001b[1;32mfrom\u001b[0m \u001b[1;32mNone\u001b[0m\u001b[1;33m\u001b[0m\u001b[1;33m\u001b[0m\u001b[0m\n\u001b[0m\u001b[0;32m   1027\u001b[0m             \u001b[1;32mexcept\u001b[0m \u001b[0mException\u001b[0m\u001b[1;33m:\u001b[0m\u001b[1;33m\u001b[0m\u001b[1;33m\u001b[0m\u001b[0m\n\u001b[0;32m   1028\u001b[0m                 \u001b[0mself\u001b[0m\u001b[1;33m.\u001b[0m\u001b[0mlog\u001b[0m\u001b[1;33m.\u001b[0m\u001b[0mwarning\u001b[0m\u001b[1;33m(\u001b[0m\u001b[1;34m\"Invalid Message:\"\u001b[0m\u001b[1;33m,\u001b[0m \u001b[0mexc_info\u001b[0m\u001b[1;33m=\u001b[0m\u001b[1;32mTrue\u001b[0m\u001b[1;33m)\u001b[0m\u001b[1;33m\u001b[0m\u001b[1;33m\u001b[0m\u001b[0m\n",
      "\u001b[1;31mKeyboardInterrupt\u001b[0m: Interrupted by user"
     ]
    }
   ],
   "source": [
    "acc = input(\"Do you have an existing account? y/n \")\n",
    "if acc == \"y\":\n",
    "    accnick= input(\"Enter your username. \")\n",
    "    while accnick in open(\"file.txt\").read():\n",
    "        print(\"Correct username.\")\n",
    "        accpass= input(\"Enter your password. \")\n",
    "        if len(accpass) == 0:\n",
    "            accpass = input(\"Try again. \")\n",
    "        while accpass in open(\"file.txt\").read():\n",
    "            print(\"Correct password. \")\n",
    "            break\n",
    "\n",
    "    else:\n",
    "        accnick = input(\"Wrong username, try again. \")\n",
    "\n",
    "elif acc == \"n\":\n",
    "    name = input(\"Enter your name. \")\n",
    "    while len(name) == 0:\n",
    "        name = input(\"You haven't entered anything, try again. \")\n",
    "    age = int(input(\"Enter your age. \"))\n",
    "    age = str(age)\n",
    "    while len(age) == 0:\n",
    "        age = input(\"Enter your age again. \")\n",
    "    password = input(\"Enter your password. \")\n",
    "    nick = name[:3]\n",
    "    nickname = nick+str(age)\n",
    "    file=open(\"file.txt\",\"w+\") #w+ is to write to a file and create a file if it doesnt exist yet\n",
    "    file.write(name+' '+str(age)+' '+nickname+' '+' '+password)\n",
    "    file=open(\"file.txt\",\"r\")\n",
    "    kurwa=file.read()\n",
    "    print(kurwa)\n",
    "    name = input(\"Enter your name. \") ###\n",
    "    if 'Test Test' in open('file.txt').read():\n",
    "        print(\"Someone with that name already exists. \")"
   ]
  }
 ],
 "metadata": {
  "kernelspec": {
   "display_name": "Python 3 (ipykernel)",
   "language": "python",
   "name": "python3"
  },
  "language_info": {
   "codemirror_mode": {
    "name": "ipython",
    "version": 3
   },
   "file_extension": ".py",
   "mimetype": "text/x-python",
   "name": "python",
   "nbconvert_exporter": "python",
   "pygments_lexer": "ipython3",
   "version": "3.8.7"
  }
 },
 "nbformat": 4,
 "nbformat_minor": 5
}
