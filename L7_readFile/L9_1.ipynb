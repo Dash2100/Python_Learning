{
 "cells": [
  {
   "cell_type": "code",
   "execution_count": 2,
   "id": "04408383",
   "metadata": {},
   "outputs": [],
   "source": [
    "text = '''python與中文\n",
    "1. 我們來試試看中文儲存能力。\n",
    "2. 許這個字會有編碼衝突風險。\n",
    "3. 犇這個字必須是utf8編碼才有。'''\n",
    "\n",
    "try:\n",
    "    file=open('newFile.txt','w',encoding='utf-8')\n",
    "    file.write(text)\n",
    "except:\n",
    "    print(\"寫入發生錯誤\")\n",
    "file.close()"
   ]
  },
  {
   "cell_type": "code",
   "execution_count": 13,
   "id": "ea8b9665",
   "metadata": {},
   "outputs": [
    {
     "name": "stdout",
     "output_type": "stream",
     "text": [
      "請輸入第1號的成績: (打-1結束)56\n",
      "請輸入第2號的成績: (打-1結束)67\n",
      "請輸入第3號的成績: (打-1結束)45\n",
      "請輸入第4號的成績: (打-1結束)34\n",
      "請輸入第5號的成績: (打-1結束)-1\n",
      "{1: 56, 2: 67, 3: 45, 4: 34}\n"
     ]
    }
   ],
   "source": [
    "scores = dict()\n",
    "no = 1\n",
    "while True:\n",
    "    score = int(input(f\"請輸入第{no}號的成績: (打-1結束)\"))\n",
    "    if score == -1:\n",
    "        break\n",
    "    scores[no] = score\n",
    "    no += 1\n",
    "print(scores)\n",
    "try:\n",
    "    file=open(\"score.txt\",\"w\",encoding=\"utf-8\")\n",
    "    file.write(str(scores))\n",
    "except:\n",
    "    print(\"寫入錯誤\")\n",
    "file.close()"
   ]
  }
 ],
 "metadata": {
  "interpreter": {
   "hash": "0bb4f0dc4a6edc783221d83c706874d373c971bb81f32b1f76d3aa763a322400"
  },
  "kernelspec": {
   "display_name": "Python 3 (ipykernel)",
   "language": "python",
   "name": "python3"
  },
  "language_info": {
   "codemirror_mode": {
    "name": "ipython",
    "version": 3
   },
   "file_extension": ".py",
   "mimetype": "text/x-python",
   "name": "python",
   "nbconvert_exporter": "python",
   "pygments_lexer": "ipython3",
   "version": "3.8.7"
  }
 },
 "nbformat": 4,
 "nbformat_minor": 5
}
